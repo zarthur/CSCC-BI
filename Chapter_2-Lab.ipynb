{
 "cells": [
  {
   "cell_type": "markdown",
   "metadata": {},
   "source": [
    "# The Nature of Data and Statistical Modeling\n",
    "\n",
    "These examples will explore some introductory data and statics concepts using a [Jupyter](http://jupyter.org/) notebook, the [Python](https://www.python.org/) programming language, the [pandas](http://pandas.pydata.org/) Python library, and a fictional [dataset](https://www.mindsumo.com/contests/building-better?permit=3e8d081171c02dd6) for a Wells Fargo analytics challenge.\n",
    "\n",
    "Code can be entered/edited in cells beginning with `In`.  To execute code, press `SHIFT + ENTER`."
   ]
  },
  {
   "cell_type": "markdown",
   "metadata": {
    "collapsed": true
   },
   "source": [
    "## Part 1: Data Example\n",
    "\n",
    "To begin, we'll load the *pandas* library that will be useful in loading, exploring, and manipulating the data.  Once we've loaded the library, we'll read data from a file located at `http://biws.cscc.arthurneuman.com/wf_fake_balances.csv` and store it in a variable named `balances`. Included in this data set are end-of-month account balances along with other, related data. The type of object used to store our data is known as a *DataFrame*; we'll often use DataFrames to store data when working with pandas. The columns of a DataFrame are *Series* objects. We can easily see a portion of the data when we work with DataFrames."
   ]
  },
  {
   "cell_type": "code",
   "execution_count": null,
   "metadata": {
    "collapsed": true
   },
   "outputs": [],
   "source": [
    "# this is a comment in python\n",
    "# load pandas\n",
    "import pandas "
   ]
  },
  {
   "cell_type": "code",
   "execution_count": null,
   "metadata": {
    "collapsed": true
   },
   "outputs": [],
   "source": [
    "# load data from file\n",
    "balances = pandas.read_csv('http://biws.cscc.arthurneuman.com/wf_fake_balances.csv')"
   ]
  },
  {
   "cell_type": "code",
   "execution_count": null,
   "metadata": {},
   "outputs": [],
   "source": [
    "# display some data\n",
    "balances"
   ]
  },
  {
   "cell_type": "markdown",
   "metadata": {},
   "source": [
    "We can see that there are many columns.  To see a full list of the columns, we will make use of the `columns` property; we can use columns' `tolist()` method to make the output easier to read. "
   ]
  },
  {
   "cell_type": "code",
   "execution_count": null,
   "metadata": {},
   "outputs": [],
   "source": [
    "# list of the dataset's column labels\n",
    "balances.columns.tolist()"
   ]
  },
  {
   "cell_type": "markdown",
   "metadata": {},
   "source": [
    "Often when we work with data, we will have access to a data dictionary or some other collection of metadata including a description of the columns.  For this dataset, we column descriptions are stored in `/usr/local/share/bi/wf_fake_metadata.csv`.  Though this this file is simply a list and description of columns, we can use pandas to display its contents. "
   ]
  },
  {
   "cell_type": "code",
   "execution_count": null,
   "metadata": {},
   "outputs": [],
   "source": [
    "# load metadata from file and display the file contents\n",
    "metadata = pandas.read_csv('/usr/local/share/bi/wf_fake_metadata.csv')\n",
    "metadata"
   ]
  },
  {
   "cell_type": "markdown",
   "metadata": {},
   "source": [
    "For this lab, we'll only be working with month-end balances, so we're only interested in rows 0 through 25.  Note that `NaN` stands for \"Not a number\" and is used to represent missing data - blank lines or cells in this case.\n",
    "\n",
    "The data in this dataset are examples of structured data.  This dataset contains both categorical and numeric data."
   ]
  },
  {
   "cell_type": "markdown",
   "metadata": {},
   "source": [
    "### Categorical and Numeric Data\n",
    "\n",
    "Categorical data can be either nominal or ordinal.  Typically, numeric values are assigned to categorical data to make processing easier.  Recall that the difference between nominal and ordinal data is that we can order ordinal data - we can rank values saying one value is \"higher\", \"greater\", or \"better\" than another value.\n",
    "\n",
    "Looking at the data above, the *cc_flag* column appears to contain nominal data and to have only two values: `0` and `1`.  We can confirm this using the `cc_flag` property of the `balances` object to access only the *cc_flag* column, then using the column's `unique()` method. Again, we'll use `tolist()` to make the output easier to read."
   ]
  },
  {
   "cell_type": "code",
   "execution_count": null,
   "metadata": {},
   "outputs": [],
   "source": [
    "# unique values of the cc_flag column\n",
    "balances.cc_flag.unique().tolist()"
   ]
  },
  {
   "cell_type": "markdown",
   "metadata": {},
   "source": [
    "The dataset also includes numerical data.  The balances of various customer accounts are examples of ratio variables. Recall that with interval data, all the properties of ordinal data apply and the difference between values is meaningful. Ratio data has the additional property that zero is non-arbitrary and that ratios between values have meaning.  \n",
    "\n",
    "In the space below, display all the values of a column using the `tolist()` method."
   ]
  },
  {
   "cell_type": "code",
   "execution_count": null,
   "metadata": {
    "collapsed": true
   },
   "outputs": [],
   "source": [
    "# display the values of a column in balances\n"
   ]
  },
  {
   "cell_type": "markdown",
   "metadata": {},
   "source": [
    "## Part 2: Descriptive Statistics"
   ]
  },
  {
   "cell_type": "markdown",
   "metadata": {},
   "source": [
    "With pandas, we can easily compute descriptive statistics.  For example, we can see the mean, median, and mode for the number of monthly online bank transactions per customer.  We can use the `print()` function if we want to display multiple things on a line and within a block of statements. Note that there could be multiple modes; we'll use the `values` property to display all the modes."
   ]
  },
  {
   "cell_type": "code",
   "execution_count": null,
   "metadata": {},
   "outputs": [],
   "source": [
    "# mean\n",
    "print(\"Mean: \", balances.online_bank_cnt.mean())\n",
    "\n",
    "# median\n",
    "print (\"Median: \", balances.online_bank_cnt.median())\n",
    "\n",
    "# mode\n",
    "print(\"Modes: \", balances.online_bank_cnt.mode().values)"
   ]
  },
  {
   "cell_type": "markdown",
   "metadata": {},
   "source": [
    "DataFrames and Series (the type of object we use when working with columns directly) also have a `describe()` method that can be used to display descriptive statistics related to central tendency and dispersion. Note that columns without numeric data will be omitted from the results."
   ]
  },
  {
   "cell_type": "code",
   "execution_count": null,
   "metadata": {},
   "outputs": [],
   "source": [
    "# Descriptive statistics for each column in the DataFrame\n",
    "balances.describe()"
   ]
  },
  {
   "cell_type": "code",
   "execution_count": null,
   "metadata": {},
   "outputs": [],
   "source": [
    "# Descriptive statistics for a specific column\n",
    "balances.online_bank_cnt.describe()"
   ]
  },
  {
   "cell_type": "markdown",
   "metadata": {},
   "source": [
    "The pandas libary also provides plotting capability through the use of another Python libary, [matplotlib](https://matplotlib.org/).  We can generate a box plot using a DataFrame's `boxplot()` method and specifying the column name we're interested in or using the Series' `plot()` method and specifying the `kind` of plot to generate."
   ]
  },
  {
   "cell_type": "code",
   "execution_count": null,
   "metadata": {},
   "outputs": [],
   "source": [
    "# configure the notebook to embed plots\n",
    "%matplotlib inline\n",
    "\n",
    "#box plot\n",
    "balances.online_bank_cnt.plot(kind='box')"
   ]
  },
  {
   "cell_type": "markdown",
   "metadata": {},
   "source": [
    "Here, we can see that there are quite a few outliers.  In fact, if we compare the mean and the median, represented by the 50th-percentile value above, we can get a sense of how much outliers can affect the mean.  \n",
    "\n",
    "If we're not interested in outliers, we can generate a plot without them by specifying `showfliers=False` in the `plot()` method.  We could also change the scale of the y-axis to be logarithmic using `logy=True`."
   ]
  },
  {
   "cell_type": "code",
   "execution_count": null,
   "metadata": {},
   "outputs": [],
   "source": [
    "# box plot of account balance without outliers\n",
    "balances.online_bank_cnt.plot(kind='box', showfliers=False)"
   ]
  },
  {
   "cell_type": "code",
   "execution_count": null,
   "metadata": {},
   "outputs": [],
   "source": [
    "# box plot with logarithmic scaling of y-axis\n",
    "balances.online_bank_cnt.plot(kind=\"box\", logy=True)"
   ]
  },
  {
   "cell_type": "markdown",
   "metadata": {},
   "source": [
    "In the space below, generate the box plot of one of the columns representing account balance."
   ]
  },
  {
   "cell_type": "code",
   "execution_count": null,
   "metadata": {
    "collapsed": true
   },
   "outputs": [],
   "source": []
  },
  {
   "cell_type": "markdown",
   "metadata": {},
   "source": [
    "We can plot the histogram using the `plot()` method and specifying `kind='hist'`"
   ]
  },
  {
   "cell_type": "code",
   "execution_count": null,
   "metadata": {},
   "outputs": [],
   "source": [
    "balances.online_bank_cnt.plot(kind='hist')"
   ]
  },
  {
   "cell_type": "markdown",
   "metadata": {},
   "source": [
    "We can also calculate the skewness and kurtosis."
   ]
  },
  {
   "cell_type": "code",
   "execution_count": null,
   "metadata": {},
   "outputs": [],
   "source": [
    "# skewness\n",
    "print(\"Skewness: \", balances.online_bank_cnt.skew())\n",
    "\n",
    "# kurtosis\n",
    "print(\"Kurtosis: \", balances.online_bank_cnt.kurtosis())"
   ]
  },
  {
   "cell_type": "markdown",
   "metadata": {},
   "source": [
    "Recall that skew indicates whether more values are on the left or right side of the distribution.  Here, a positive value for skewness is consist with the histogram indicating that there are more values on the left side.  Kurtosis measures how tall/skinny the histogram is compared to the [standard normal distribution](http://mathworld.wolfram.com/StandardNormalDistribution.html).\n",
    "\n",
    "In the space below, plot the histogram and calculate skewness and kurtosis for the values in the *age* column."
   ]
  },
  {
   "cell_type": "code",
   "execution_count": null,
   "metadata": {
    "collapsed": true
   },
   "outputs": [],
   "source": []
  },
  {
   "cell_type": "markdown",
   "metadata": {},
   "source": [
    "## Part 3: Regression\n",
    "\n",
    "We can use the data in our DataFrame to calculate linear regressions using ordinary least squares.  [Scikit-Learn](http://scikit-learn.org/stable/) is one library that we can use to do the necessary calculations.  \n",
    "\n",
    "As an example, we'll explore the relationship between age and branch visits.  To start, we'll assign the explanatory data (age) to a variable named `X` and the response data (branch visits)to a variable named `y`.  Note that we need to change how the explanatory data is stored using the `reshape()` method - this is a requirement of scikit-learn."
   ]
  },
  {
   "cell_type": "code",
   "execution_count": null,
   "metadata": {
    "collapsed": true
   },
   "outputs": [],
   "source": [
    "# store exaplanatory and response data in new variables\n",
    "X = balances.age.values.reshape(-1, 1)\n",
    "y = balances.branch_visit_cnt"
   ]
  },
  {
   "cell_type": "markdown",
   "metadata": {},
   "source": [
    "Now we can make use of the scikit-learn library to calculate the regression coefficient and intercept.  Because we only have one explanatory variable, we will work with a simple, or one-dimensional, linear regression."
   ]
  },
  {
   "cell_type": "code",
   "execution_count": null,
   "metadata": {},
   "outputs": [],
   "source": [
    "# import LinearRegression from the sklearn library\n",
    "from sklearn.linear_model import LinearRegression\n",
    "\n",
    "# create a LinearRegression object\n",
    "regression = LinearRegression()\n",
    "\n",
    "# calculate the coefficient and intercept with existing data\n",
    "regression.fit(X, y)"
   ]
  },
  {
   "cell_type": "markdown",
   "metadata": {},
   "source": [
    "We can display the calculated coefficient and intercept."
   ]
  },
  {
   "cell_type": "code",
   "execution_count": null,
   "metadata": {},
   "outputs": [],
   "source": [
    "print(\"Coefficient: \", regression.coef_)\n",
    "print(\"Intercept: \", regression.intercept_)"
   ]
  },
  {
   "cell_type": "markdown",
   "metadata": {},
   "source": [
    "If we were to write an equation using these values (with rounding), we would have:\n",
    "\n",
    "y = -0.18*x + 0.12\n",
    "\n",
    "We can also plot the data and the regression line.  When we generated plots previously, we made use of matplotlib through pandas, for our next plot, we'll have to make use of matplotlib directly. When we plot the regression line, we should use a new set of values for the explanatory variable; the values should be increasing from the smallest value in the original data to the largest value in the original data. To do this, we'll make use of the [numpy](http://www.numpy.org/) library, which we can access using panadas."
   ]
  },
  {
   "cell_type": "code",
   "execution_count": null,
   "metadata": {},
   "outputs": [],
   "source": [
    "# import part of matplotlib\n",
    "import matplotlib.pyplot as plt\n",
    "\n",
    "# create a scatter plot with our data \n",
    "plt.scatter(X, y,  color='black')\n",
    "\n",
    "# for plotting, use new range of values for explanatory variable\n",
    "X_plot = pandas.np.linspace(X.min(), X.max()).reshape(-1, 1)\n",
    "\n",
    "# plot a line using the range of values as x-values\n",
    "# and values calculated with the regression for y-values\n",
    "plt.plot(X_plot, regression.predict(X_plot), color='blue', linewidth=1)\n",
    "\n",
    "# show the plot\n",
    "plt.show()"
   ]
  },
  {
   "cell_type": "markdown",
   "metadata": {},
   "source": [
    "We can also calculate the coefficient of determination to see how well the regression fits the data. If the regression perfectly fit the data, we'd expect to see a value of 1."
   ]
  },
  {
   "cell_type": "code",
   "execution_count": null,
   "metadata": {},
   "outputs": [],
   "source": [
    "# coefficient of determination:\n",
    "regression.score(X, y)"
   ]
  },
  {
   "cell_type": "markdown",
   "metadata": {},
   "source": [
    "In the space below, calculate and plot a linear regression using another column as the response variable.  You can repeat all the steps above but be sure to use a different column when assigning data to the `y` variable."
   ]
  },
  {
   "cell_type": "code",
   "execution_count": null,
   "metadata": {
    "collapsed": true
   },
   "outputs": [],
   "source": []
  }
 ],
 "metadata": {
  "kernelspec": {
   "display_name": "Python 3",
   "language": "python",
   "name": "python3"
  },
  "language_info": {
   "codemirror_mode": {
    "name": "ipython",
    "version": 3
   },
   "file_extension": ".py",
   "mimetype": "text/x-python",
   "name": "python",
   "nbconvert_exporter": "python",
   "pygments_lexer": "ipython3",
   "version": "3.5.2"
  }
 },
 "nbformat": 4,
 "nbformat_minor": 2
}
