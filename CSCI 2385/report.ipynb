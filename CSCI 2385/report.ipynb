{
 "cells": [
  {
   "cell_type": "markdown",
   "metadata": {
    "collapsed": true
   },
   "source": [
    "# [Pandas Pivot Table Explained](http://pbpython.com/pandas-pivot-table-explained.html)"
   ]
  },
  {
   "cell_type": "code",
   "execution_count": null,
   "metadata": {},
   "outputs": [],
   "source": [
    "# install libraries\n",
    "!pip install pandas openpyxl"
   ]
  },
  {
   "cell_type": "code",
   "execution_count": null,
   "metadata": {},
   "outputs": [],
   "source": [
    "# load libraries\n",
    "import pandas as pd\n",
    "import numpy as np"
   ]
  },
  {
   "cell_type": "code",
   "execution_count": null,
   "metadata": {},
   "outputs": [],
   "source": [
    "# load the data\n",
    "df = pd.read_excel(\"./sales-funnel.xlsx\")"
   ]
  },
  {
   "cell_type": "code",
   "execution_count": null,
   "metadata": {},
   "outputs": [],
   "source": [
    "# first five rows\n",
    "df.head()"
   ]
  },
  {
   "cell_type": "code",
   "execution_count": null,
   "metadata": {},
   "outputs": [],
   "source": [
    "# examine column data types\n",
    "df.dtypes"
   ]
  },
  {
   "cell_type": "code",
   "execution_count": null,
   "metadata": {},
   "outputs": [],
   "source": [
    "# indicate that status represents categorical data\n",
    "df[\"Status\"] = df[\"Status\"].astype(\"category\")"
   ]
  },
  {
   "cell_type": "code",
   "execution_count": null,
   "metadata": {},
   "outputs": [],
   "source": [
    "# set order of categories\n",
    "df[\"Status\"].cat.set_categories([\"won\",\"pending\",\"presented\",\"declined\"],inplace=True)"
   ]
  },
  {
   "cell_type": "code",
   "execution_count": null,
   "metadata": {},
   "outputs": [],
   "source": [
    "df.head()"
   ]
  },
  {
   "cell_type": "code",
   "execution_count": null,
   "metadata": {},
   "outputs": [],
   "source": [
    "# sort on status\n",
    "df.sort_values(\"Status\")"
   ]
  },
  {
   "cell_type": "code",
   "execution_count": null,
   "metadata": {},
   "outputs": [],
   "source": [
    "# create a pivot table with \"name\" for rows\n",
    "pd.pivot_table(df, index=[\"Name\"])"
   ]
  },
  {
   "cell_type": "code",
   "execution_count": null,
   "metadata": {},
   "outputs": [],
   "source": [
    "# add fields to the pivot table index\n",
    "pd.pivot_table(df, index=[\"Name\", \"Rep\", \"Manager\"])"
   ]
  },
  {
   "cell_type": "code",
   "execution_count": null,
   "metadata": {},
   "outputs": [],
   "source": [
    "# create a new pivot table with infomration about sales by manager/rep\n",
    "pd.pivot_table(df, index=[\"Manager\", \"Rep\"])"
   ]
  },
  {
   "cell_type": "code",
   "execution_count": null,
   "metadata": {},
   "outputs": [],
   "source": [
    "# display only price data\n",
    "pd.pivot_table(df, index=[\"Manager\", \"Rep\"], values=[\"Price\"])"
   ]
  },
  {
   "cell_type": "code",
   "execution_count": null,
   "metadata": {},
   "outputs": [],
   "source": [
    "# aggregate price data using sum rather than mean\n",
    "pd.pivot_table(df, index=[\"Manager\", \"Rep\"], values=[\"Price\"], aggfunc=np.sum)"
   ]
  },
  {
   "cell_type": "code",
   "execution_count": null,
   "metadata": {},
   "outputs": [],
   "source": [
    "# provide multiple aggregations\n",
    "pd.pivot_table(df, index=[\"Manager\", \"Rep\"], values=[\"Price\"], aggfunc=[np.mean, len])"
   ]
  },
  {
   "cell_type": "code",
   "execution_count": null,
   "metadata": {},
   "outputs": [],
   "source": [
    "# break out price by product\n",
    "pd.pivot_table(df, index=[\"Manager\", \"Rep\"], values=[\"Price\"], \n",
    "               columns=['Product'], aggfunc=np.sum)"
   ]
  },
  {
   "cell_type": "code",
   "execution_count": null,
   "metadata": {},
   "outputs": [],
   "source": [
    "# replace \"NaN\" with zero\n",
    "pd.pivot_table(df, index=[\"Manager\", \"Rep\"], values=[\"Price\"], \n",
    "               columns=['Product'], aggfunc=np.sum,\n",
    "               fill_value=0)"
   ]
  },
  {
   "cell_type": "code",
   "execution_count": null,
   "metadata": {},
   "outputs": [],
   "source": [
    "# include both price and quantity data\n",
    "pd.pivot_table(df, index=[\"Manager\", \"Rep\"], values=[\"Price\", \"Quantity\"], \n",
    "               columns=['Product'], aggfunc=np.sum,\n",
    "               fill_value=0)"
   ]
  },
  {
   "cell_type": "code",
   "execution_count": null,
   "metadata": {},
   "outputs": [],
   "source": [
    "# move \"Product\" from column to rows\n",
    "pd.pivot_table(df, index=[\"Manager\", \"Rep\", \"Product\"], \n",
    "               values=[\"Price\", \"Quantity\"], \n",
    "               aggfunc=np.sum, fill_value=0)"
   ]
  },
  {
   "cell_type": "code",
   "execution_count": null,
   "metadata": {},
   "outputs": [],
   "source": [
    "# include totals using \"margins\" keyword argument\n",
    "pd.pivot_table(df, index=[\"Manager\", \"Rep\", \"Product\"], \n",
    "               values=[\"Price\", \"Quantity\"], \n",
    "               aggfunc=np.sum, fill_value=0,\n",
    "               margins=True)"
   ]
  },
  {
   "cell_type": "code",
   "execution_count": null,
   "metadata": {},
   "outputs": [],
   "source": [
    "# pivot table with manager and status\n",
    "pd.pivot_table(df, index=[\"Manager\", \"Status\"], \n",
    "               values=[\"Price\", \"Quantity\"], \n",
    "               aggfunc=np.sum, fill_value=0,\n",
    "               margins=True)"
   ]
  },
  {
   "cell_type": "code",
   "execution_count": null,
   "metadata": {},
   "outputs": [],
   "source": [
    "# piot table with different aggregations for each value\n",
    "pd.pivot_table(df, index=[\"Manager\",\"Status\"],\n",
    "               columns=[\"Product\"],\n",
    "               values=[\"Quantity\",\"Price\"],\n",
    "               aggfunc={\"Quantity\":len,\"Price\":np.sum},\n",
    "               fill_value=0)"
   ]
  },
  {
   "cell_type": "code",
   "execution_count": null,
   "metadata": {},
   "outputs": [],
   "source": [
    "# use sum for both aggregations\n",
    "pd.pivot_table(df, index=[\"Manager\",\"Status\"],\n",
    "               columns=[\"Product\"],\n",
    "               values=[\"Quantity\",\"Price\"],\n",
    "               aggfunc={\"Quantity\":np.sum,\"Price\":np.sum},\n",
    "               fill_value=0)"
   ]
  },
  {
   "cell_type": "code",
   "execution_count": null,
   "metadata": {},
   "outputs": [],
   "source": [
    "# assign the pivot table to a variable\n",
    "table = pd.pivot_table(df, index=[\"Manager\",\"Status\"],\n",
    "                       columns=[\"Product\"],\n",
    "                       values=[\"Quantity\",\"Price\"],\n",
    "                       aggfunc={\"Quantity\":np.sum,\"Price\":np.sum},\n",
    "                       fill_value=0)"
   ]
  },
  {
   "cell_type": "code",
   "execution_count": null,
   "metadata": {},
   "outputs": [],
   "source": [
    "# query the table for data about Debra Henley\n",
    "table.query('Manager == [\"Debra Henley\"]')"
   ]
  },
  {
   "cell_type": "code",
   "execution_count": null,
   "metadata": {},
   "outputs": [],
   "source": [
    "# query data only for won or pending statuses\n",
    "table.query('Status == [\"won\", \"pending\"]')"
   ]
  },
  {
   "cell_type": "code",
   "execution_count": null,
   "metadata": {},
   "outputs": [],
   "source": [
    "# show price information for items with won or pending status\n",
    "table.query('Status == [\"won\", \"pending\"]')[\"Price\"]"
   ]
  },
  {
   "cell_type": "code",
   "execution_count": null,
   "metadata": {},
   "outputs": [],
   "source": [
    "# a pivot table is a DataFrame and has dataframe methods like sum\n",
    "table.sum()"
   ]
  },
  {
   "cell_type": "markdown",
   "metadata": {},
   "source": [
    "# [Generating Excel Reports](http://pbpython.com/pandas-pivot-report.html)"
   ]
  },
  {
   "cell_type": "code",
   "execution_count": null,
   "metadata": {},
   "outputs": [],
   "source": [
    "# create pivot table with sum of quantity and price aggregrated by manager/rep/product\n",
    "table = pd.pivot_table(df, index=[\"Manager\", \"Rep\", \"Product\"],\n",
    "                       values=[\"Quantity\", \"Price\"],\n",
    "                       fill_value=0)"
   ]
  },
  {
   "cell_type": "code",
   "execution_count": null,
   "metadata": {},
   "outputs": [],
   "source": [
    "# display table\n",
    "table"
   ]
  },
  {
   "cell_type": "code",
   "execution_count": null,
   "metadata": {},
   "outputs": [],
   "source": [
    "# can query to get information for a specific manager\n",
    "table.query('Manager == \"Debra Henley\"')"
   ]
  },
  {
   "cell_type": "code",
   "execution_count": null,
   "metadata": {},
   "outputs": [],
   "source": [
    "# Can use xs (cross section)\n",
    "table.xs(\"Debra Henley\", level=0)"
   ]
  },
  {
   "cell_type": "code",
   "execution_count": null,
   "metadata": {},
   "outputs": [],
   "source": [
    "# can specify values for each level\n",
    "table.xs((\"Debra Henley\", \"John Smith\"))"
   ]
  },
  {
   "cell_type": "code",
   "execution_count": null,
   "metadata": {},
   "outputs": [],
   "source": [
    "# sepecify value for a specific value of an inner level\n",
    "table.xs(\"John Smith\", level=1)"
   ]
  },
  {
   "cell_type": "code",
   "execution_count": null,
   "metadata": {},
   "outputs": [],
   "source": [
    "# use table.index.get_level_values() to see the index values at each level associated with each row\n",
    "# level zero is the outer-most level (manager)\n",
    "table.index.get_level_values(0)"
   ]
  },
  {
   "cell_type": "code",
   "execution_count": null,
   "metadata": {},
   "outputs": [],
   "source": [
    "# level 1 (rep)\n",
    "table.index.get_level_values(1)"
   ]
  },
  {
   "cell_type": "code",
   "execution_count": null,
   "metadata": {},
   "outputs": [],
   "source": [
    "# get distinct values using the .unique() method\n",
    "# unique rep names\n",
    "table.index.get_level_values(1).unique()"
   ]
  },
  {
   "cell_type": "code",
   "execution_count": null,
   "metadata": {},
   "outputs": [],
   "source": [
    "# unique manager names\n",
    "table.index.get_level_values(0).unique()"
   ]
  },
  {
   "cell_type": "code",
   "execution_count": null,
   "metadata": {},
   "outputs": [],
   "source": [
    "# use the unique level-0 values to iterate through the pivot table\n",
    "# use a for-loop to access one manager at a time\n",
    "for manager in table.index.get_level_values(0).unique():\n",
    "    print(manager)"
   ]
  },
  {
   "cell_type": "code",
   "execution_count": null,
   "metadata": {},
   "outputs": [],
   "source": [
    "# iterate through table using cross sections\n",
    "for manager in table.index.get_level_values(0).unique():\n",
    "    print(table.xs(manager, level=0))"
   ]
  },
  {
   "cell_type": "code",
   "execution_count": null,
   "metadata": {},
   "outputs": [],
   "source": [
    "# cross sections are also DataFrames and DataFrames have a to_excel() method\n",
    "# to_excel() method requires an ExcelWriter that specifies the file to write to\n",
    "\n",
    "# iterate through pivot table \n",
    "for manager in table.index.get_level_values(0).unique():\n",
    "    filename = manager + \".xlsx\"\n",
    "    writer = pd.ExcelWriter(filename)  # create an ExcelWriter\n",
    "    temp_df = table.xs(manager, level=0)\n",
    "    temp_df.to_excel(writer)  # convert DataFrame to an Excel format\n",
    "    writer.save()  # save the Excel file"
   ]
  },
  {
   "cell_type": "markdown",
   "metadata": {},
   "source": [
    "# [Creating HTML Reports](http://pbpython.com/pdf-reports.html)"
   ]
  },
  {
   "cell_type": "code",
   "execution_count": null,
   "metadata": {
    "scrolled": true
   },
   "outputs": [],
   "source": [
    "# review pivot table\n",
    "table"
   ]
  },
  {
   "cell_type": "code",
   "execution_count": null,
   "metadata": {},
   "outputs": [],
   "source": [
    "# create an html template with place holders for title and pivot table using multi-line strings\n",
    "template = \"\"\"<!DOCTYPE html>\n",
    "<html>\n",
    "<head lang=\"en\">\n",
    "    <meta charset=\"UTF-8\">\n",
    "    <title>{title}</title>\n",
    "</head>\n",
    "<body>\n",
    "    <h2>{title}</h2>\n",
    "     {pivot_table_data}\n",
    "</body>\n",
    "</html>\n",
    "\"\"\""
   ]
  },
  {
   "cell_type": "code",
   "execution_count": null,
   "metadata": {},
   "outputs": [],
   "source": [
    "# DataFrames include a .to_html() method\n",
    "table.to_html()"
   ]
  },
  {
   "cell_type": "code",
   "execution_count": null,
   "metadata": {},
   "outputs": [],
   "source": [
    "# combine template with data\n",
    "report = template.format(title=\"Sales Report\", pivot_table_data=table.to_html())\n",
    "report"
   ]
  },
  {
   "cell_type": "code",
   "execution_count": null,
   "metadata": {},
   "outputs": [],
   "source": [
    "# save html to file\n",
    "with open(\"report.html\", \"w\") as output:\n",
    "    output.write(report)"
   ]
  },
  {
   "cell_type": "code",
   "execution_count": null,
   "metadata": {},
   "outputs": [],
   "source": []
  }
 ],
 "metadata": {
  "kernelspec": {
   "display_name": "Python 3",
   "language": "python",
   "name": "python3"
  },
  "language_info": {
   "codemirror_mode": {
    "name": "ipython",
    "version": 3
   },
   "file_extension": ".py",
   "mimetype": "text/x-python",
   "name": "python",
   "nbconvert_exporter": "python",
   "pygments_lexer": "ipython3",
   "version": "3.6.4"
  }
 },
 "nbformat": 4,
 "nbformat_minor": 2
}
