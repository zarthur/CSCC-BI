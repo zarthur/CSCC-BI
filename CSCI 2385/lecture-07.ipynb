{
 "cells": [
  {
   "cell_type": "markdown",
   "metadata": {},
   "source": [
    "# Week 7: Exploratory vs Explanatory Visualizations\n",
    "\n",
    "## Lab\n",
    "\n",
    "Execute the *Lab* portion of this notebook (everything before *Exercise*), download a copy as a notebook file, and submit it on BlackBoard.\n",
    "\n",
    "### Introduction\n",
    "\n",
    "While visualizations can certainly be useful as an aid in story telling, we can also rely on visualizations to help make sense of data when we're exploring it and trying to extract meaning. While an exploratory visualization might make sense as we're working closely with the data, it's meaning could be lost or overwhelming when used as an explanatory tool in a report or summary. An exploratory visualization *could* be used as an explanatory visualization especially if it clearly supports the message that is being conveyed and can be easily understood by the target audience.\n",
    "\n",
    "Here we'll look at the examples of visualizations as both exploratory and explanatory. \n",
    "\n",
    "\n",
    "### Preparation\n",
    "\n",
    "This notebook makes use of the seaborn, pandas, wordcloud, requests, and beautifulsoup libraries.  To begin, we'll make sure they are installed."
   ]
  },
  {
   "cell_type": "code",
   "execution_count": null,
   "metadata": {},
   "outputs": [],
   "source": [
    "!pip install seaborn pandas wordcloud requests bs4"
   ]
  },
  {
   "cell_type": "markdown",
   "metadata": {},
   "source": [
    "### Color, Form, Etc.\n",
    "\n",
    "We often use explanatory visualizations to try to \"tell a story\" and seek to make such visualizations appealing visually.  While exploratory visualizations are typically used to make sense of data, similar design choices could be applied to help detect trends and reduce strain from viewing dull visualizations.\n",
    "\n",
    "\n",
    "### Exploratory Analysis\n",
    "\n",
    "We'll begin by exploring a [dataset](https://github.com/mwaskom/seaborn-data) provided with the [seaborn](https://seaborn.pydata.org/) library that contains tip-related data.  The seaborn library provides a high-level interface to the commonly used [matplotlib](https://matplotlib.org/) library ([examples](https://matplotlib.org/gallery/index.html)) that can be used to create more-polished [visualizations](https://seaborn.pydata.org/examples/index.html). \n",
    "\n",
    "First, we import the [pandas](https://pandas.pydata.org/) and seaborn libraries and name them pd and sns, respectively, based on common convention.  Next, we'll indicate to the notebook software that we want generated plots to appear in-line as part of the notebook and set the figure size to 12x10 \"inches\"."
   ]
  },
  {
   "cell_type": "code",
   "execution_count": null,
   "metadata": {},
   "outputs": [],
   "source": [
    "import pandas as pd\n",
    "import seaborn as sns\n",
    "%matplotlib inline\n",
    "sns.set(rc={'figure.figsize':(12,10)})"
   ]
  },
  {
   "cell_type": "markdown",
   "metadata": {},
   "source": [
    "As a dataset included with the seaborn library, we can load the data using the *load_dataset()* method with the dataset name specified."
   ]
  },
  {
   "cell_type": "code",
   "execution_count": null,
   "metadata": {},
   "outputs": [],
   "source": [
    "tips = sns.load_dataset(\"tips\")\n",
    "tips"
   ]
  },
  {
   "cell_type": "markdown",
   "metadata": {},
   "source": [
    "Here, we see that there are seven columns in the dataset.  This is a generated dataset used for demonstration but we can assign meaning to each of the columns.\n",
    "\n",
    "- *total_bill*: the total bill for the meal\n",
    "- *tip*: tip paid for service\n",
    "- *sex*: of the customer\n",
    "- *smoker*: whether the customer was a smoker or not\n",
    "- *day*: day of the week on which the order occurred\n",
    "- *time*: lunch or dinner\n",
    "- *size*: number of items ordered\n",
    "\n",
    "One of the first questions we might ask is, \"What is the busiest day in terms of number of orders?\" We can get numeric values relatively easily using functionality included with a pandas DataFrame."
   ]
  },
  {
   "cell_type": "code",
   "execution_count": null,
   "metadata": {},
   "outputs": [],
   "source": [
    "tips.day.value_counts()"
   ]
  },
  {
   "cell_type": "markdown",
   "metadata": {},
   "source": [
    "For a few values, its easy to determine which one is the greatest, which is the least, and what the order is.  With more values, it becomes harder to determine these things by sight without sorting the data.  A visualization, on the other hand, might allow us to more quickly extract meaning from the data.  Here, we use a bar chart to visualize each day's number of orders."
   ]
  },
  {
   "cell_type": "code",
   "execution_count": null,
   "metadata": {},
   "outputs": [],
   "source": [
    "tips.day.value_counts().plot(kind='bar')"
   ]
  },
  {
   "cell_type": "markdown",
   "metadata": {},
   "source": [
    "We can also get a rough idea of the relative differences between values using visualizations as well. "
   ]
  },
  {
   "cell_type": "code",
   "execution_count": null,
   "metadata": {},
   "outputs": [],
   "source": [
    "tips.time.value_counts().plot(kind='bar')"
   ]
  },
  {
   "cell_type": "markdown",
   "metadata": {},
   "source": [
    "We can use a histogram to understand how the data is distributed.  Below is a histogram displaying distribution details for *total_bill*. Note that this histogram is generated using the DataFrame *hist()* method."
   ]
  },
  {
   "cell_type": "code",
   "execution_count": null,
   "metadata": {},
   "outputs": [],
   "source": [
    "# distribution of bill and tip\n",
    "tips.total_bill.hist()"
   ]
  },
  {
   "cell_type": "markdown",
   "metadata": {},
   "source": [
    "We can generate a histogram using the seaborn library directly.  Seaborn provides addition display options with a histogram including the ability to display a *rug plot*, a way of visualizing the distribution of data along a single axis, and a *kernel density estimation plot*, a visualization of the corresponding probability density for the given data. Note that when the kernel density estimation plot is shown, the y-axis represents values between 0 and 1."
   ]
  },
  {
   "cell_type": "code",
   "execution_count": null,
   "metadata": {},
   "outputs": [],
   "source": [
    "sns.distplot(tips.tip, rug=True)"
   ]
  },
  {
   "cell_type": "markdown",
   "metadata": {},
   "source": [
    "In a previous course, we briefly discussed exploratory data analysis but focused more on numeric values rather than visualizations themselves.  Recall that we can use a DataFrame's *describe()* method to calculate some descriptive statistics.  We could use visualizations such as box plots to quickly get a sense of some of these values and more easily compare similar data."
   ]
  },
  {
   "cell_type": "code",
   "execution_count": null,
   "metadata": {},
   "outputs": [],
   "source": [
    "tips[['total_bill', 'tip', 'size']].describe()"
   ]
  },
  {
   "cell_type": "code",
   "execution_count": null,
   "metadata": {},
   "outputs": [],
   "source": [
    "sns.boxplot(x=\"total_bill\", data=tips)"
   ]
  },
  {
   "cell_type": "code",
   "execution_count": null,
   "metadata": {},
   "outputs": [],
   "source": [
    "sns.boxplot(x=\"tip\", data=tips)"
   ]
  },
  {
   "cell_type": "code",
   "execution_count": null,
   "metadata": {},
   "outputs": [],
   "source": [
    "sns.boxplot(y=\"size\", data=tips)"
   ]
  },
  {
   "cell_type": "markdown",
   "metadata": {},
   "source": [
    "We can also drill into our data using different grouping and aggregations.  Here, we calculate basic descriptive statistics for *total_bill* by each day of the week."
   ]
  },
  {
   "cell_type": "code",
   "execution_count": null,
   "metadata": {},
   "outputs": [],
   "source": [
    "tips.groupby(\"day\")['total_bill'].describe()"
   ]
  },
  {
   "cell_type": "markdown",
   "metadata": {},
   "source": [
    "We can use visualizations to convey the same information. The next two plots allow us to see the distribution of *total_bill* by each day of the week."
   ]
  },
  {
   "cell_type": "code",
   "execution_count": null,
   "metadata": {},
   "outputs": [],
   "source": [
    "sns.stripplot(x=\"day\", y=\"total_bill\", data=tips)"
   ]
  },
  {
   "cell_type": "code",
   "execution_count": null,
   "metadata": {},
   "outputs": [],
   "source": [
    "sns.swarmplot(x=\"day\", y=\"total_bill\", data=tips)"
   ]
  },
  {
   "cell_type": "markdown",
   "metadata": {},
   "source": [
    "We can quickly generate box plots for *total_bill* separated by day of the week or time of day as well. "
   ]
  },
  {
   "cell_type": "code",
   "execution_count": null,
   "metadata": {},
   "outputs": [],
   "source": [
    "sns.boxplot(x=\"day\", y=\"total_bill\", data=tips)"
   ]
  },
  {
   "cell_type": "code",
   "execution_count": null,
   "metadata": {},
   "outputs": [],
   "source": [
    "sns.boxplot(x=\"time\", y=\"total_bill\", data=tips)"
   ]
  },
  {
   "cell_type": "markdown",
   "metadata": {},
   "source": [
    "Visualizations can also allow us to examine multiple, complex aspects of data at the same time. For example, *violin plots* combine aspects of a box plot and kernel density estimation plot."
   ]
  },
  {
   "cell_type": "code",
   "execution_count": null,
   "metadata": {},
   "outputs": [],
   "source": [
    "sns.violinplot(x=\"day\", y=\"total_bill\", hue=\"sex\", split=True, data=tips)"
   ]
  },
  {
   "cell_type": "markdown",
   "metadata": {},
   "source": [
    "We can include distribution details in a violin plot as well."
   ]
  },
  {
   "cell_type": "code",
   "execution_count": null,
   "metadata": {},
   "outputs": [],
   "source": [
    "sns.violinplot(x=\"day\", y=\"total_bill\", inner=\"stick\", data=tips)"
   ]
  },
  {
   "cell_type": "markdown",
   "metadata": {},
   "source": [
    "Previously, we used pivot tables to aggregate data based on categorical values.  Here we see aggregations for *smoker*, *sex*, and *time*."
   ]
  },
  {
   "cell_type": "code",
   "execution_count": null,
   "metadata": {},
   "outputs": [],
   "source": [
    "pd.pivot_table(tips, index=[\"smoker\"], values=[\"total_bill\", \"tip\"], aggfunc=pd.np.median)"
   ]
  },
  {
   "cell_type": "code",
   "execution_count": null,
   "metadata": {},
   "outputs": [],
   "source": [
    "pd.pivot_table(tips, index=[\"sex\"], values=[\"total_bill\", \"tip\"], aggfunc=pd.np.median)"
   ]
  },
  {
   "cell_type": "code",
   "execution_count": null,
   "metadata": {},
   "outputs": [],
   "source": [
    "pd.pivot_table(tips, index=[\"time\"], values=[\"total_bill\", \"tip\"], aggfunc=pd.np.median)"
   ]
  },
  {
   "cell_type": "markdown",
   "metadata": {},
   "source": [
    "Rather than compare numerical values, it might be easier or faster to compare visualizations."
   ]
  },
  {
   "cell_type": "code",
   "execution_count": null,
   "metadata": {},
   "outputs": [],
   "source": [
    "g = sns.PairGrid(tips,\n",
    "                 x_vars=[\"smoker\", \"sex\", \"time\"],\n",
    "                 y_vars=[\"tip\", \"total_bill\"],\n",
    "                 aspect=.9, size=5)\n",
    "g.map(sns.violinplot, palette=\"pastel\");"
   ]
  },
  {
   "cell_type": "markdown",
   "metadata": {},
   "source": [
    "In a previous course, we looked at regressions as a way of modeling interdependence of data.  Consider the relationship between *total_bill* and *tip*."
   ]
  },
  {
   "cell_type": "code",
   "execution_count": null,
   "metadata": {},
   "outputs": [],
   "source": [
    "tips[['total_bill', 'tip']]"
   ]
  },
  {
   "cell_type": "markdown",
   "metadata": {},
   "source": [
    "We can calculate statistics such as mean, median, and mode for a data set or the [correlation coefficient](https://en.wikipedia.org/wiki/Correlation_coefficient) for some dataset but these can be misleading. Consider [Anscombe's Quartet](https://en.wikipedia.org/wiki/Anscombe%27s_quartet).  This a collection of four datasets in which the means, sample variances, correlation coefficient, linear regression coefficients, and [coefficient of determination](https://en.wikipedia.org/wiki/Coefficient_of_determination) are the same or very close in value even though the underlying data is quite different."
   ]
  },
  {
   "cell_type": "code",
   "execution_count": null,
   "metadata": {},
   "outputs": [],
   "source": [
    "anscombe = sns.load_dataset(\"anscombe\")\n",
    "anscombe"
   ]
  },
  {
   "cell_type": "code",
   "execution_count": null,
   "metadata": {},
   "outputs": [],
   "source": [
    "anscombe.groupby(\"dataset\").describe()"
   ]
  },
  {
   "cell_type": "code",
   "execution_count": null,
   "metadata": {},
   "outputs": [],
   "source": [
    "anscombe.groupby(\"dataset\").corr()"
   ]
  },
  {
   "cell_type": "markdown",
   "metadata": {},
   "source": [
    "Looking only at these statistics, its easy to mistake the four datasets as being very similar.  Visualizing the data can help us see how different they are."
   ]
  },
  {
   "cell_type": "code",
   "execution_count": null,
   "metadata": {},
   "outputs": [],
   "source": [
    "sns.lmplot(x=\"x\", y=\"y\", col=\"dataset\", hue=\"dataset\", data=anscombe, ci=None, col_wrap=2)"
   ]
  },
  {
   "cell_type": "markdown",
   "metadata": {},
   "source": [
    "For the tip data, we can plot *tip* and *total_bill* values using a scatter plot before calculating any regression coefficients to ensure that a linear regression would be appropriate.  The second plot includes the linear regression."
   ]
  },
  {
   "cell_type": "code",
   "execution_count": null,
   "metadata": {},
   "outputs": [],
   "source": [
    "sns.regplot(x='total_bill', y='tip', data=tips, fit_reg=False)"
   ]
  },
  {
   "cell_type": "code",
   "execution_count": null,
   "metadata": {},
   "outputs": [],
   "source": [
    "sns.regplot(x='total_bill', y='tip', data=tips, ci=None)"
   ]
  },
  {
   "cell_type": "markdown",
   "metadata": {},
   "source": [
    "We can also use a scatter plot to compare data based on categorical values. First we plot *tip* and *total_bill* by *sex* then show the pairwise plots for numeric data by *day*."
   ]
  },
  {
   "cell_type": "code",
   "execution_count": null,
   "metadata": {},
   "outputs": [],
   "source": [
    "sns.lmplot(x=\"total_bill\", y=\"tip\", hue=\"sex\", data=tips, ci=None)"
   ]
  },
  {
   "cell_type": "code",
   "execution_count": null,
   "metadata": {},
   "outputs": [],
   "source": [
    "sns.pairplot(data=tips, hue=\"day\")"
   ]
  },
  {
   "cell_type": "markdown",
   "metadata": {},
   "source": [
    "Rather than comparing *tip* and *total_bill*, it is probably of greater interest to examine tip as a percentage of the total."
   ]
  },
  {
   "cell_type": "code",
   "execution_count": null,
   "metadata": {},
   "outputs": [],
   "source": [
    "tips['percent'] = tips.tip/tips.total_bill * 100"
   ]
  },
  {
   "cell_type": "code",
   "execution_count": null,
   "metadata": {},
   "outputs": [],
   "source": [
    "g = sns.PairGrid(tips,\n",
    "                 x_vars=[\"smoker\", \"sex\", \"time\"],\n",
    "                 y_vars=[\"percent\"],\n",
    "                 aspect=.9, size=5)\n",
    "g.map(sns.violinplot);"
   ]
  },
  {
   "cell_type": "markdown",
   "metadata": {},
   "source": [
    "Consider another popular dataset, the [*Iris* dataset](https://en.wikipedia.org/wiki/Iris_flower_data_set), that records sepal length and width and petal length and width by iris species. "
   ]
  },
  {
   "cell_type": "code",
   "execution_count": null,
   "metadata": {},
   "outputs": [],
   "source": [
    "iris = sns.load_dataset(\"iris\")\n",
    "iris"
   ]
  },
  {
   "cell_type": "markdown",
   "metadata": {},
   "source": [
    "We can easily see how the data is distributed for each column and see if there is any correlation between two columns using a pair plot where *species* is used to determine marker color."
   ]
  },
  {
   "cell_type": "code",
   "execution_count": null,
   "metadata": {},
   "outputs": [],
   "source": [
    "sns.pairplot(hue=\"species\", data=iris)"
   ]
  },
  {
   "cell_type": "markdown",
   "metadata": {},
   "source": [
    "### Explanatory\n",
    "\n",
    "While an exploratory plot could be used as an explanatory plot, explanatory plots tend to be simpler to understand as they are meant to convey a specific idea rather than to extra unknown information from data.\n",
    "\n",
    "Suppose we wanted to show both the mean tip percent by day of the week and the fact that this value varied only slightly from day to day.  We might use a bar plot.  Note that in choosing this visualization, we knew what we wanted to convey ahead of time."
   ]
  },
  {
   "cell_type": "code",
   "execution_count": null,
   "metadata": {},
   "outputs": [],
   "source": [
    "tips.groupby('day').mean()['percent'].plot(kind='bar')\n"
   ]
  },
  {
   "cell_type": "markdown",
   "metadata": {},
   "source": [
    "We might want to drill into the days to show the difference with respect to meal time as well.  Here, we use a pivot table to generate a heat map."
   ]
  },
  {
   "cell_type": "code",
   "execution_count": null,
   "metadata": {},
   "outputs": [],
   "source": [
    "tips.pivot_table(index=\"day\", columns=\"time\", values=\"percent\", aggfunc=pd.np.mean)"
   ]
  },
  {
   "cell_type": "code",
   "execution_count": null,
   "metadata": {},
   "outputs": [],
   "source": [
    "sns.heatmap(tips.pivot_table(index=\"day\", columns=\"time\", values=\"percent\"), \n",
    "            cmap=sns.light_palette(\"green\"), annot=True, linewidths=0.5)"
   ]
  },
  {
   "cell_type": "markdown",
   "metadata": {},
   "source": [
    "Sometimes, the best way to convey information is with a simple table of values."
   ]
  },
  {
   "cell_type": "code",
   "execution_count": null,
   "metadata": {},
   "outputs": [],
   "source": [
    "tips.pivot_table(index=\"sex\", values=\"percent\", aggfunc=pd.np.median).T"
   ]
  },
  {
   "cell_type": "markdown",
   "metadata": {},
   "source": [
    "Another difference between exploratory and explanatory visualizations is that explanatory visualizations might be more \"flashy\" or less precise.  Consider, for example, a [word cloud](https://en.wikipedia.org/wiki/Tag_cloud).  Here we generate a word cloud from [reviews of Columbus State on Yelp](https://www.yelp.com/biz/columbus-state-community-college-columbus-2). We scrape the site using the [Requests](http://docs.python-requests.org/en/master/) and [Beautiful Soup](https://www.crummy.com/software/BeautifulSoup/) libraries; we extract the text associated with the reviews using specific HTML elements and classes."
   ]
  },
  {
   "cell_type": "code",
   "execution_count": null,
   "metadata": {},
   "outputs": [],
   "source": [
    "from wordcloud import WordCloud\n",
    "from bs4 import BeautifulSoup\n",
    "import requests"
   ]
  },
  {
   "cell_type": "code",
   "execution_count": null,
   "metadata": {},
   "outputs": [],
   "source": [
    "response = requests.get(\"https://www.yelp.com/biz/columbus-state-community-college-columbus-2\")\n",
    "bs = BeautifulSoup(response.content, 'lxml')\n",
    "review_containers = bs.findAll(\"div\", {\"class\": \"review-content\"})"
   ]
  },
  {
   "cell_type": "code",
   "execution_count": null,
   "metadata": {},
   "outputs": [],
   "source": [
    "reviews_text = \"\"\n",
    "for review_container in review_containers:\n",
    "    paragraphs = review_container.find_all(\"p\")\n",
    "    for p in paragraphs:\n",
    "        reviews_text += p.text\n",
    "    reviews_text += ' '"
   ]
  },
  {
   "cell_type": "code",
   "execution_count": null,
   "metadata": {},
   "outputs": [],
   "source": [
    "reviews_text"
   ]
  },
  {
   "cell_type": "code",
   "execution_count": null,
   "metadata": {},
   "outputs": [],
   "source": [
    "wordcloud = WordCloud().generate(reviews_text)"
   ]
  },
  {
   "cell_type": "code",
   "execution_count": null,
   "metadata": {},
   "outputs": [],
   "source": [
    "import matplotlib.pyplot as plt"
   ]
  },
  {
   "cell_type": "code",
   "execution_count": null,
   "metadata": {},
   "outputs": [],
   "source": [
    "plt.imshow(wordcloud, interpolation='bilinear')\n",
    "plt.axis(\"off\")"
   ]
  },
  {
   "cell_type": "markdown",
   "metadata": {},
   "source": [
    "## Additional Resources\n",
    "\n",
    "- [The Python Graph Gallery](https://python-graph-gallery.com/)\n",
    "- [Seaborn Gallery](https://seaborn.pydata.org/examples/index.html)\n",
    "- [Matplotlib Gallery](https://matplotlib.org/gallery/index.html)"
   ]
  },
  {
   "cell_type": "markdown",
   "metadata": {},
   "source": [
    "## Exercise\n",
    "\n",
    "Create a word cloud using text of your choice.  To do this, enter the text between the two sets of triple quotes below and execute the cell. Save the generated image and submit it on blackboard."
   ]
  },
  {
   "cell_type": "code",
   "execution_count": null,
   "metadata": {},
   "outputs": [],
   "source": [
    "import matplotlib.pyplot as plt\n",
    "\n",
    "from wordcloud import WordCloud\n",
    "\n",
    "# insert your text between the quotes\n",
    "text = \"\"\"\n",
    "\n",
    "\"\"\"\n",
    "\n",
    "wordcloud = WordCloud().generate(text)\n",
    "plt.imshow(wordcloud, interpolation='bilinear')\n",
    "plt.axis(\"off\")"
   ]
  },
  {
   "cell_type": "code",
   "execution_count": null,
   "metadata": {},
   "outputs": [],
   "source": []
  }
 ],
 "metadata": {
  "kernelspec": {
   "display_name": "Python 3",
   "language": "python",
   "name": "python3"
  },
  "language_info": {
   "codemirror_mode": {
    "name": "ipython",
    "version": 3
   },
   "file_extension": ".py",
   "mimetype": "text/x-python",
   "name": "python",
   "nbconvert_exporter": "python",
   "pygments_lexer": "ipython3",
   "version": "3.6.4"
  }
 },
 "nbformat": 4,
 "nbformat_minor": 2
}
