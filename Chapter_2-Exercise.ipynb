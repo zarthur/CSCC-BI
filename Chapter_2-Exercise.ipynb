{
 "cells": [
  {
   "cell_type": "markdown",
   "metadata": {},
   "source": [
    "# Exploring Data\n",
    "\n",
    "In this exercise, we'll look at fictional set of HR data from [kaggle](https://www.kaggle.com/pavansubhasht/ibm-hr-analytics-attrition-dataset).  \n",
    "\n",
    "In the space below, complete the following:\n",
    "- import pandas\n",
    "- load the data from '~/attrition.csv' (be sure to upload the file first)\n",
    "- display the list of columns in the dataset\n",
    "- display descriptive statistics for the *MonthlyIncome* column\n",
    "- generate a box plot for data in the *MonthlyIncome* column\n",
    "- calculate the linear regression with *YearsAtCompany* as the explanatory variable and *MonthlyIncome* as the response variable and create a plot with the data and the regession line\n"
   ]
  },
  {
   "cell_type": "code",
   "execution_count": null,
   "metadata": {
    "collapsed": true
   },
   "outputs": [],
   "source": []
  },
  {
   "cell_type": "code",
   "execution_count": null,
   "metadata": {
    "collapsed": true
   },
   "outputs": [],
   "source": []
  }
 ],
 "metadata": {
  "kernelspec": {
   "display_name": "Python 3",
   "language": "python",
   "name": "python3"
  },
  "language_info": {
   "codemirror_mode": {
    "name": "ipython",
    "version": 3
   },
   "file_extension": ".py",
   "mimetype": "text/x-python",
   "name": "python",
   "nbconvert_exporter": "python",
   "pygments_lexer": "ipython3",
   "version": "3.5.2"
  }
 },
 "nbformat": 4,
 "nbformat_minor": 2
}
