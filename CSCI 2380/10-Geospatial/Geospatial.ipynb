{
 "cells": [
  {
   "cell_type": "markdown",
   "metadata": {},
   "source": [
    "# Geospatial Analytics\n",
    "\n",
    "In this lab and exercise, we'll examine geospatial data related to bus stops and addresses and use it to answer some questions.\n",
    "\n",
    "The data we'll be working with is available directly from [COTA](https://www.cota.com/data/) and the [City of Columbus](data-columbus.opendata.arcgis.com).  \n",
    "\n",
    "As a reminder, press SHIFT+ENTER or press the *Run Cell* button to execute the code in a selected cell. For the lab, you do not need to add any code - just follow along.  For the exercise, you will have to write one line of code.\n",
    "\n",
    "## Lab\n",
    "\n",
    "In this lab, we'll use the data mentioned above to answer a question related to bus availability.  For a given address and a set of bus stops, we can calculate the distance to the nearest bus stop.  For a collection of addresses, we can calculate the distance to the nearest stop for each of them.  We can than determine what the greatest distance is from this set of calculations as a way of measuring how accessible public transportation is in an area.\n",
    "\n",
    "Though the City of Columbus' Address dataset contains over 750,000 addresses for Franklin county and areas within 7 miles of the county, we'll work with a much smaller subset: the addresses in the [43222](https://www.google.com/maps/place/Columbus,+OH+43222/@39.96022,-83.0547451,14z/data=!3m1!4b1!4m5!3m4!1s0x88388f0a41e5927d:0x39750e5a4bb09747!8m2!3d39.9591613!4d-83.0334524) zip code.  This reduction is necessary given time and resource limitations.\n",
    "\n",
    "### Libraries\n",
    "\n",
    "To conduct this analysis, we'll make use of several third-party libraries:\n",
    "\n",
    "- [geopandas](http://geopandas.org/): an extension of the pandas library for organizing and working with geospatial data.\n",
    "- [haversine](https://github.com/mapado/haversine): a library that provides functionality to calculate the distance between two points on earth using the [haversine formula](https://en.wikipedia.org/wiki/Haversine_formula).\n",
    "- [matplotlib](https://matplotlib.org/): a library used to generate plots; while we won't make use of the library directly, many other libraries rely on matplotlib to generate plots.\n",
    "- [requests](http://docs.python-requests.org/en/master/): a library that provides a simple way making HTTP requests to get resources from the web.\n",
    "\n",
    "As a first step, we'll make sure these libraries are installed. Some might already be installed in the environment in which the notebook is run."
   ]
  },
  {
   "cell_type": "code",
   "execution_count": 6,
   "metadata": {},
   "outputs": [
    {
     "name": "stdout",
     "output_type": "stream",
     "text": [
      "Requirement already satisfied: geopandas in /usr/local/lib/python3.6/site-packages\n",
      "Collecting haversine\n",
      "  Using cached haversine-0.4.5.tar.gz\n",
      "Requirement already satisfied: matplotlib in /usr/local/lib/python3.6/site-packages\n",
      "Requirement already satisfied: requests in /usr/local/lib/python3.6/site-packages\n",
      "Requirement already satisfied: pandas in /usr/local/lib/python3.6/site-packages (from geopandas)\n",
      "Requirement already satisfied: descartes in /usr/local/lib/python3.6/site-packages (from geopandas)\n",
      "Requirement already satisfied: pyproj in /usr/local/lib/python3.6/site-packages (from geopandas)\n",
      "Requirement already satisfied: fiona in /usr/local/lib/python3.6/site-packages (from geopandas)\n",
      "Requirement already satisfied: shapely in /usr/local/lib/python3.6/site-packages (from geopandas)\n",
      "Requirement already satisfied: numpy>=1.7.1 in /usr/local/lib/python3.6/site-packages (from matplotlib)\n",
      "Requirement already satisfied: python-dateutil>=2.1 in /usr/local/lib/python3.6/site-packages (from matplotlib)\n",
      "Requirement already satisfied: cycler>=0.10 in /usr/local/lib/python3.6/site-packages (from matplotlib)\n",
      "Requirement already satisfied: pyparsing!=2.0.4,!=2.1.2,!=2.1.6,>=2.0.1 in /usr/local/lib/python3.6/site-packages (from matplotlib)\n",
      "Requirement already satisfied: six>=1.10 in /usr/local/lib/python3.6/site-packages (from matplotlib)\n",
      "Requirement already satisfied: pytz in /usr/local/lib/python3.6/site-packages (from matplotlib)\n",
      "Requirement already satisfied: idna<2.7,>=2.5 in /usr/local/lib/python3.6/site-packages (from requests)\n",
      "Requirement already satisfied: chardet<3.1.0,>=3.0.2 in /usr/local/lib/python3.6/site-packages (from requests)\n",
      "Requirement already satisfied: urllib3<1.23,>=1.21.1 in /usr/local/lib/python3.6/site-packages (from requests)\n",
      "Requirement already satisfied: certifi>=2017.4.17 in /usr/local/lib/python3.6/site-packages (from requests)\n",
      "Requirement already satisfied: munch in /usr/local/lib/python3.6/site-packages (from fiona->geopandas)\n",
      "Requirement already satisfied: cligj in /usr/local/lib/python3.6/site-packages (from fiona->geopandas)\n",
      "Requirement already satisfied: click-plugins in /usr/local/lib/python3.6/site-packages (from fiona->geopandas)\n",
      "Requirement already satisfied: click>=4.0 in /usr/local/lib/python3.6/site-packages (from cligj->fiona->geopandas)\n",
      "Building wheels for collected packages: haversine\n",
      "  Running setup.py bdist_wheel for haversine ... \u001b[?25ldone\n",
      "\u001b[?25h  Stored in directory: /Users/arthur/Library/Caches/pip/wheels/be/a3/4e/2e073dc725bf9b430e2d42931c55e5be2be4cdc6e325e17677\n",
      "Successfully built haversine\n",
      "Installing collected packages: haversine\n",
      "Successfully installed haversine-0.4.5\n"
     ]
    }
   ],
   "source": [
    "!pip3 install geopandas haversine matplotlib requests "
   ]
  },
  {
   "cell_type": "markdown",
   "metadata": {},
   "source": [
    "Now that the third-party libraries are installed, we have to use `import` to load them to make use of them.  In addition to the libraries listed above, we'll also load components from the [standard library](https://docs.python.org/3/library/index.html) - code included with a standard installation of Python that provides additional functionality:\n",
    "\n",
    "- [io](https://docs.python.org/3/library/io.html): tools for working with [streams](https://en.wikipedia.org/wiki/Stream_%28computing%29) of data.\n",
    "- [itertools](https://docs.python.org/3/library/itertools.html): a collection of utilities to support efficient iteration through collections.\n",
    "- [zipfile](https://docs.python.org/3/library/zipfile.html): tools for working with zip files.\n",
    "\n",
    "Additionally, we'll use the `from...import` syntax to import a specific component from the *matplotlib* library."
   ]
  },
  {
   "cell_type": "code",
   "execution_count": 7,
   "metadata": {},
   "outputs": [],
   "source": [
    "import io\n",
    "import itertools\n",
    "import zipfile\n",
    "\n",
    "import geopandas\n",
    "import haversine\n",
    "import requests\n",
    "import shapely\n",
    "\n",
    "from matplotlib import pyplot"
   ]
  },
  {
   "cell_type": "markdown",
   "metadata": {},
   "source": [
    "As mentioned previously, matplotlib will be used to generate plots.  To provide a nicer integration with the notebook, we'll first indicate that we'd like generate plots to be show in the notebook itself and then set the figure size to have a value greater than the default."
   ]
  },
  {
   "cell_type": "code",
   "execution_count": 8,
   "metadata": {},
   "outputs": [],
   "source": [
    "%matplotlib inline\n",
    "pyplot.rcParams[\"figure.figsize\"] = (10, 10)"
   ]
  },
  {
   "cell_type": "markdown",
   "metadata": {},
   "source": [
    "### COTA Data\n",
    "\n",
    "Now that we've loaded the necessary libraries, let's work with the COTA data.  The data for COTA bus stops is available at the URL below.  As a first step, we'll store this URL in a variable named *cota_data_url*."
   ]
  },
  {
   "cell_type": "code",
   "execution_count": 9,
   "metadata": {},
   "outputs": [],
   "source": [
    "cota_data_url = \"http://cota1974.maps.arcgis.com/sharing/rest/content/items/43e38988fab145e4934d6c6d7b3c2385/data\""
   ]
  },
  {
   "cell_type": "markdown",
   "metadata": {},
   "source": [
    "If you were to open that URL in a browser, the site would return a zip file that would be saved to the computer.  Rather than download the zip file and process it outside the notebook, we can use Python and do the necessary work in the notebook.\n",
    "\n",
    "First, we use the *Requests* library to make an [HTTP GET](https://www.w3schools.com/tags/ref_httpmethods.asp) request using the URL we specified above.  The response to our request is stored in the *cota_data* variable.\n",
    "\n",
    "The response data is actually that of a zip file.  In order to interact with the data as a zip file, we need to first have Python convert it into a stream of binary data using the *io* library.  The resulting stream is stored in the *cota_data_stream* variable.\n",
    "\n",
    "After converting the data into a binary stream, we can use the *zipfile* library to create an object that will allow us to interact with the data as a zip file, listing files, extracting data, etc. We'll store the zip file object in a variable named *cota_data_zip*."
   ]
  },
  {
   "cell_type": "code",
   "execution_count": 10,
   "metadata": {},
   "outputs": [],
   "source": [
    "cota_data = requests.get(cota_data_url)\n",
    "cota_data_stream = io.BytesIO(cota_data.content)\n",
    "cota_data_zip = zipfile.ZipFile(cota_data_stream)"
   ]
  },
  {
   "cell_type": "markdown",
   "metadata": {},
   "source": [
    "Now that we have an object that we can treat like a zip file, we can use the *namelist* function to see all the files contained in the zip file itself."
   ]
  },
  {
   "cell_type": "code",
   "execution_count": 11,
   "metadata": {},
   "outputs": [
    {
     "data": {
      "text/plain": [
       "['Stops_201709.shx',\n",
       " 'Lines_201709.cpg',\n",
       " 'Lines_201709.dbf',\n",
       " 'Lines_201709.prj',\n",
       " 'Lines_201709.sbn',\n",
       " 'Lines_201709.sbx',\n",
       " 'Lines_201709.shp',\n",
       " 'Lines_201709.shp.xml',\n",
       " 'Lines_201709.shx',\n",
       " 'Stops_201709.cpg',\n",
       " 'Stops_201709.dbf',\n",
       " 'Stops_201709.prj',\n",
       " 'Stops_201709.sbn',\n",
       " 'Stops_201709.sbx',\n",
       " 'Stops_201709.shp',\n",
       " 'Stops_201709.shp.xml']"
      ]
     },
     "execution_count": 11,
     "metadata": {},
     "output_type": "execute_result"
    }
   ],
   "source": [
    "cota_data_zip.namelist()"
   ]
  },
  {
   "cell_type": "markdown",
   "metadata": {},
   "source": [
    "These are [common](http://gisgeography.com/arcgis-shapefile-files-types-extensions/) [ESRI ArcGIS](http://www.esri.com/arcgis/about-arcgis) file formats that are used to describe geographic features. In this case, we have two sets of data: one corresponding to bus routes and one corresponding to bus stops. We're interested in the bus stops.  \n",
    "\n",
    "In order to use the data, we first have to extract the files from the zip file. To do this, we an use the *extractall* method on *ZipFile* objects."
   ]
  },
  {
   "cell_type": "code",
   "execution_count": 12,
   "metadata": {},
   "outputs": [],
   "source": [
    "cota_data_zip.extractall()"
   ]
  },
  {
   "cell_type": "markdown",
   "metadata": {},
   "source": [
    "Now that files have been extracted from the zip file, we can load the bus stop data using the *Geopanadas* library and store it in a variable named *cota_stops* and see how many records are included in the dataset."
   ]
  },
  {
   "cell_type": "code",
   "execution_count": 13,
   "metadata": {},
   "outputs": [
    {
     "data": {
      "text/plain": [
       "2992"
      ]
     },
     "execution_count": 13,
     "metadata": {},
     "output_type": "execute_result"
    }
   ],
   "source": [
    "cota_stops = geopandas.read_file('Stops_201709.shp')\n",
    "len(cota_stops)"
   ]
  },
  {
   "cell_type": "markdown",
   "metadata": {},
   "source": [
    "Now that the data has been loaded, we can begin examining it.  *Geopandas* extends the *pandas* library and the *pandas* library makes use of a tabular data structure knowns as a *[GeoDataFrame](http://geopandas.org/data_structures.html#geodataframe)*.  We can examine the first five records of the table created from the bus stop data using the *head* method."
   ]
  },
  {
   "cell_type": "code",
   "execution_count": 14,
   "metadata": {},
   "outputs": [
    {
     "data": {
      "text/html": [
       "<div>\n",
       "<style scoped>\n",
       "    .dataframe tbody tr th:only-of-type {\n",
       "        vertical-align: middle;\n",
       "    }\n",
       "\n",
       "    .dataframe tbody tr th {\n",
       "        vertical-align: top;\n",
       "    }\n",
       "\n",
       "    .dataframe thead th {\n",
       "        text-align: right;\n",
       "    }\n",
       "</style>\n",
       "<table border=\"1\" class=\"dataframe\">\n",
       "  <thead>\n",
       "    <tr style=\"text-align: right;\">\n",
       "      <th></th>\n",
       "      <th>StopId</th>\n",
       "      <th>StopName</th>\n",
       "      <th>Lon</th>\n",
       "      <th>Lat</th>\n",
       "      <th>Comments</th>\n",
       "      <th>tpField00</th>\n",
       "      <th>FacingDir</th>\n",
       "      <th>CurbType</th>\n",
       "      <th>InService</th>\n",
       "      <th>Bench</th>\n",
       "      <th>...</th>\n",
       "      <th>tpField05</th>\n",
       "      <th>tpField07</th>\n",
       "      <th>tpField08</th>\n",
       "      <th>tpField09</th>\n",
       "      <th>RouteList</th>\n",
       "      <th>created_us</th>\n",
       "      <th>created_da</th>\n",
       "      <th>last_edite</th>\n",
       "      <th>last_edi_1</th>\n",
       "      <th>geometry</th>\n",
       "    </tr>\n",
       "  </thead>\n",
       "  <tbody>\n",
       "    <tr>\n",
       "      <th>0</th>\n",
       "      <td>5217</td>\n",
       "      <td>PICKFORDE DR &amp; BETHEL RD</td>\n",
       "      <td>-83086596</td>\n",
       "      <td>40065959</td>\n",
       "      <td>Geocoded 630' N of Bethel per MetaVue</td>\n",
       "      <td>Nr</td>\n",
       "      <td>S</td>\n",
       "      <td></td>\n",
       "      <td>1</td>\n",
       "      <td>0</td>\n",
       "      <td>...</td>\n",
       "      <td>0</td>\n",
       "      <td>0</td>\n",
       "      <td>1</td>\n",
       "      <td>1</td>\n",
       "      <td>001, 021, 033, 072</td>\n",
       "      <td></td>\n",
       "      <td>None</td>\n",
       "      <td></td>\n",
       "      <td>None</td>\n",
       "      <td>POINT (1804315.800138637 753014.3560403883)</td>\n",
       "    </tr>\n",
       "    <tr>\n",
       "      <th>1</th>\n",
       "      <td>6845</td>\n",
       "      <td>2425 BETHEL RD</td>\n",
       "      <td>-83084106</td>\n",
       "      <td>40064526</td>\n",
       "      <td></td>\n",
       "      <td>Nr</td>\n",
       "      <td>E</td>\n",
       "      <td></td>\n",
       "      <td>1</td>\n",
       "      <td>0</td>\n",
       "      <td>...</td>\n",
       "      <td>0</td>\n",
       "      <td>0</td>\n",
       "      <td>0</td>\n",
       "      <td>0</td>\n",
       "      <td>001, 033, 072</td>\n",
       "      <td></td>\n",
       "      <td>None</td>\n",
       "      <td></td>\n",
       "      <td>None</td>\n",
       "      <td>POINT (1805009.347636059 752487.8177233934)</td>\n",
       "    </tr>\n",
       "    <tr>\n",
       "      <th>2</th>\n",
       "      <td>5225</td>\n",
       "      <td>BETHEL RD &amp; WOOD RUN BLVD</td>\n",
       "      <td>-83080785</td>\n",
       "      <td>40064408</td>\n",
       "      <td></td>\n",
       "      <td>Far</td>\n",
       "      <td>E</td>\n",
       "      <td></td>\n",
       "      <td>1</td>\n",
       "      <td>0</td>\n",
       "      <td>...</td>\n",
       "      <td>0</td>\n",
       "      <td>0</td>\n",
       "      <td>0</td>\n",
       "      <td>0</td>\n",
       "      <td>001, 033, 072</td>\n",
       "      <td></td>\n",
       "      <td>None</td>\n",
       "      <td></td>\n",
       "      <td>None</td>\n",
       "      <td>POINT (1805938.602667302 752438.8361940533)</td>\n",
       "    </tr>\n",
       "    <tr>\n",
       "      <th>3</th>\n",
       "      <td>5609</td>\n",
       "      <td>BETHEL RD &amp; HEDGEROW RD</td>\n",
       "      <td>-83077475</td>\n",
       "      <td>40064300</td>\n",
       "      <td></td>\n",
       "      <td>Far</td>\n",
       "      <td>E</td>\n",
       "      <td></td>\n",
       "      <td>1</td>\n",
       "      <td>0</td>\n",
       "      <td>...</td>\n",
       "      <td>0</td>\n",
       "      <td>0</td>\n",
       "      <td>0</td>\n",
       "      <td>0</td>\n",
       "      <td>001, 033, 072</td>\n",
       "      <td></td>\n",
       "      <td>None</td>\n",
       "      <td></td>\n",
       "      <td>None</td>\n",
       "      <td>POINT (1806864.80553931 752393.5515077263)</td>\n",
       "    </tr>\n",
       "    <tr>\n",
       "      <th>4</th>\n",
       "      <td>5218</td>\n",
       "      <td>BETHEL RD &amp; DIERKER RD</td>\n",
       "      <td>-83074360</td>\n",
       "      <td>40064184</td>\n",
       "      <td></td>\n",
       "      <td>Far</td>\n",
       "      <td>E</td>\n",
       "      <td></td>\n",
       "      <td>1</td>\n",
       "      <td>0</td>\n",
       "      <td>...</td>\n",
       "      <td></td>\n",
       "      <td></td>\n",
       "      <td></td>\n",
       "      <td></td>\n",
       "      <td>001, 072</td>\n",
       "      <td></td>\n",
       "      <td>None</td>\n",
       "      <td></td>\n",
       "      <td>None</td>\n",
       "      <td>POINT (1807736.413048059 752345.7336899787)</td>\n",
       "    </tr>\n",
       "  </tbody>\n",
       "</table>\n",
       "<p>5 rows × 34 columns</p>\n",
       "</div>"
      ],
      "text/plain": [
       "   StopId                   StopName       Lon       Lat  \\\n",
       "0    5217   PICKFORDE DR & BETHEL RD -83086596  40065959   \n",
       "1    6845             2425 BETHEL RD -83084106  40064526   \n",
       "2    5225  BETHEL RD & WOOD RUN BLVD -83080785  40064408   \n",
       "3    5609    BETHEL RD & HEDGEROW RD -83077475  40064300   \n",
       "4    5218     BETHEL RD & DIERKER RD -83074360  40064184   \n",
       "\n",
       "                                Comments tpField00 FacingDir CurbType  \\\n",
       "0  Geocoded 630' N of Bethel per MetaVue        Nr         S            \n",
       "1                                               Nr         E            \n",
       "2                                              Far         E            \n",
       "3                                              Far         E            \n",
       "4                                              Far         E            \n",
       "\n",
       "   InService  Bench                     ...                       tpField05  \\\n",
       "0          1      0                     ...                               0   \n",
       "1          1      0                     ...                               0   \n",
       "2          1      0                     ...                               0   \n",
       "3          1      0                     ...                               0   \n",
       "4          1      0                     ...                                   \n",
       "\n",
       "   tpField07  tpField08  tpField09           RouteList  created_us  \\\n",
       "0          0          1          1  001, 021, 033, 072               \n",
       "1          0          0          0       001, 033, 072               \n",
       "2          0          0          0       001, 033, 072               \n",
       "3          0          0          0       001, 033, 072               \n",
       "4                                             001, 072               \n",
       "\n",
       "   created_da  last_edite  last_edi_1  \\\n",
       "0        None                    None   \n",
       "1        None                    None   \n",
       "2        None                    None   \n",
       "3        None                    None   \n",
       "4        None                    None   \n",
       "\n",
       "                                      geometry  \n",
       "0  POINT (1804315.800138637 753014.3560403883)  \n",
       "1  POINT (1805009.347636059 752487.8177233934)  \n",
       "2  POINT (1805938.602667302 752438.8361940533)  \n",
       "3   POINT (1806864.80553931 752393.5515077263)  \n",
       "4  POINT (1807736.413048059 752345.7336899787)  \n",
       "\n",
       "[5 rows x 34 columns]"
      ]
     },
     "execution_count": 14,
     "metadata": {},
     "output_type": "execute_result"
    }
   ],
   "source": [
    "cota_stops.head(5)"
   ]
  },
  {
   "cell_type": "markdown",
   "metadata": {},
   "source": [
    "From the first five rows, we can see examples of data stored in each column.  Notice that not all the columns are displayed due to the number of columns available.  To see data for all the columns, we can either increase the number of columns that are displayed by default or examine an individual record using the *iloc* object associated with a *GeoDataFrame*.  The *iloc* object can be treated like a collection of items so we can access individual elements using the bracket notation and specifying the index of the element we're interested in.  We'll look at the first row."
   ]
  },
  {
   "cell_type": "code",
   "execution_count": 15,
   "metadata": {},
   "outputs": [
    {
     "data": {
      "text/plain": [
       "StopId                                               5217\n",
       "StopName                         PICKFORDE DR & BETHEL RD\n",
       "Lon                                             -83086596\n",
       "Lat                                              40065959\n",
       "Comments            Geocoded 630' N of Bethel per MetaVue\n",
       "tpField00                                              Nr\n",
       "FacingDir                                               S\n",
       "CurbType                                                 \n",
       "InService                                               1\n",
       "Bench                                                   0\n",
       "Shelter                                                 1\n",
       "Lighting                                                0\n",
       "Garbage                                                 1\n",
       "Telephone                                               0\n",
       "SignPost                                                1\n",
       "Bicycle                                                 0\n",
       "Transfer                                                1\n",
       "UserShort3                                              0\n",
       "UserShort4                                              0\n",
       "UserShort5                                              0\n",
       "tpField01                                                \n",
       "tpField02                                               1\n",
       "tpField03                                                \n",
       "tpField04                                            1994\n",
       "tpField05                                               0\n",
       "tpField07                                               0\n",
       "tpField08                                               1\n",
       "tpField09                                               1\n",
       "RouteList                              001, 021, 033, 072\n",
       "created_us                                               \n",
       "created_da                                           None\n",
       "last_edite                                               \n",
       "last_edi_1                                           None\n",
       "geometry      POINT (1804315.800138637 753014.3560403883)\n",
       "Name: 0, dtype: object"
      ]
     },
     "execution_count": 15,
     "metadata": {},
     "output_type": "execute_result"
    }
   ],
   "source": [
    "cota_stops.iloc[0]"
   ]
  },
  {
   "cell_type": "markdown",
   "metadata": {},
   "source": [
    "One important field to note is *geometry*.  Each bus stop can be considered in terms of a point on a map. The coordinates of each point are given by the values displayed in the *geometry* field.  For our analysis, it would be nice if these coordinates corresponded to longitude and latitude but it doesn't appear to be the case.  \n",
    "\n",
    "A common issue with mapping is choosing how to represent the surface of a three-dimensional object, such as the earth, in a two-dimensional plane, such as a map.  This problem has led to the development of different solutions based on different [projections](https://en.wikipedia.org/wiki/Map_projection) and [coordinate systems](https://en.wikipedia.org/wiki/Geodetic_datum).  To see the projection being used with this data and to understand the meaning of the values in *geometry*, we can use the *csr* property of a *GeoDataFrame* to see which coordinate reference system it uses."
   ]
  },
  {
   "cell_type": "code",
   "execution_count": 16,
   "metadata": {},
   "outputs": [
    {
     "data": {
      "text/plain": [
       "{'datum': 'NAD83',\n",
       " 'lat_0': 38,\n",
       " 'lat_1': 38.73333333333333,\n",
       " 'lat_2': 40.03333333333333,\n",
       " 'lon_0': -82.5,\n",
       " 'no_defs': True,\n",
       " 'proj': 'lcc',\n",
       " 'units': 'us-ft',\n",
       " 'x_0': 600000,\n",
       " 'y_0': 0}"
      ]
     },
     "execution_count": 16,
     "metadata": {},
     "output_type": "execute_result"
    }
   ],
   "source": [
    "cota_stops.crs"
   ]
  },
  {
   "cell_type": "markdown",
   "metadata": {
    "collapsed": true
   },
   "source": [
    "The result indicates that the data makes use of the [Lambert conformal conic projection](https://en.wikipedia.org/wiki/Lambert_conformal_conic_projection) and the [North American Datum of 1983](https://en.wikipedia.org/wiki/North_American_Datum#North_American_Datum_of_1983) coordinate system.\n",
    "\n",
    "We'd like to use the [WGS 84](https://en.wikipedia.org/wiki/World_Geodetic_System) system, also known as [EPSG:4326](http://epsg.io/4326), a system that commonly uses an [equirectangular projection](https://en.wikipedia.org/wiki/Equirectangular_projection) for 2D representations and the standard latitude/longitude coordinate system.  This commonly used system is used in a variety of applications including [GPS](https://en.wikipedia.org/wiki/Global_Positioning_System).  \n",
    "\n",
    "To change the coordinate reference system, we can use the *to_crs* function and specify the properties of the new system.  In this case, we'll use `{'init': 'epsg:4326'}` to specify EPSG:4362."
   ]
  },
  {
   "cell_type": "code",
   "execution_count": 17,
   "metadata": {},
   "outputs": [
    {
     "data": {
      "text/plain": [
       "{'init': 'epsg:4326'}"
      ]
     },
     "execution_count": 17,
     "metadata": {},
     "output_type": "execute_result"
    }
   ],
   "source": [
    "cota_stops = cota_stops.to_crs({'init': 'epsg:4326'})\n",
    "cota_stops.crs"
   ]
  },
  {
   "cell_type": "markdown",
   "metadata": {},
   "source": [
    "We can also look at a specific record in the GeoDataFram to confirm that geometry point data now represents longitude-latitude pairs."
   ]
  },
  {
   "cell_type": "code",
   "execution_count": 18,
   "metadata": {},
   "outputs": [
    {
     "data": {
      "text/plain": [
       "StopId                                                5217\n",
       "StopName                          PICKFORDE DR & BETHEL RD\n",
       "Lon                                              -83086596\n",
       "Lat                                               40065959\n",
       "Comments             Geocoded 630' N of Bethel per MetaVue\n",
       "tpField00                                               Nr\n",
       "FacingDir                                                S\n",
       "CurbType                                                  \n",
       "InService                                                1\n",
       "Bench                                                    0\n",
       "Shelter                                                  1\n",
       "Lighting                                                 0\n",
       "Garbage                                                  1\n",
       "Telephone                                                0\n",
       "SignPost                                                 1\n",
       "Bicycle                                                  0\n",
       "Transfer                                                 1\n",
       "UserShort3                                               0\n",
       "UserShort4                                               0\n",
       "UserShort5                                               0\n",
       "tpField01                                                 \n",
       "tpField02                                                1\n",
       "tpField03                                                 \n",
       "tpField04                                             1994\n",
       "tpField05                                                0\n",
       "tpField07                                                0\n",
       "tpField08                                                1\n",
       "tpField09                                                1\n",
       "RouteList                               001, 021, 033, 072\n",
       "created_us                                                \n",
       "created_da                                            None\n",
       "last_edite                                                \n",
       "last_edi_1                                            None\n",
       "geometry      POINT (-83.08659600029003 40.06595900033432)\n",
       "Name: 0, dtype: object"
      ]
     },
     "execution_count": 18,
     "metadata": {},
     "output_type": "execute_result"
    }
   ],
   "source": [
    "cota_stops.iloc[0]"
   ]
  },
  {
   "cell_type": "markdown",
   "metadata": {},
   "source": [
    "Note that the geometry data now corresponds to the values in the *Lon* and *Lat* fields.\n",
    "\n",
    "Before continuing, let's discard bus stops that are not in service.  We can do this by filtering the dataset based on the value in the *InService* field."
   ]
  },
  {
   "cell_type": "code",
   "execution_count": 19,
   "metadata": {},
   "outputs": [
    {
     "data": {
      "text/plain": [
       "2982"
      ]
     },
     "execution_count": 19,
     "metadata": {},
     "output_type": "execute_result"
    }
   ],
   "source": [
    "cota_stops = cota_stops[cota_stops.InService == 1]\n",
    "len(cota_stops)"
   ]
  },
  {
   "cell_type": "markdown",
   "metadata": {},
   "source": [
    "Only ten stops are marked as not being in service.\n",
    "\n",
    "One way to get a sense of the data in the GeoDataFrame is to plot it.  The *GeoDataFrame* *plot* method can be used.  Since the data contains point data, the plot will consist of a collection of points.  For this plot, we'll make the point markers blue."
   ]
  },
  {
   "cell_type": "code",
   "execution_count": 20,
   "metadata": {},
   "outputs": [
    {
     "data": {
      "text/plain": [
       "<matplotlib.axes._subplots.AxesSubplot at 0x10d286908>"
      ]
     },
     "execution_count": 20,
     "metadata": {},
     "output_type": "execute_result"
    },
    {
     "data": {
      "image/png": "[encoded data removed]",
      "text/plain": [
       "<matplotlib.figure.Figure at 0x10c0cbc50>"
      ]
     },
     "metadata": {},
     "output_type": "display_data"
    }
   ],
   "source": [
    "cota_stops.plot(color='b')"
   ]
  },
  {
   "cell_type": "markdown",
   "metadata": {},
   "source": [
    "Looking at the plot, we can see that most bus stops correspond to major roadways in the Columbus area. \n",
    "\n",
    "### Address Data\n",
    "\n",
    "Now that we've transformed the bus stop data into the state we'd like, let's begin working with the address data. \n",
    "\n",
    "We'll be working with a subset of the entire address dataset restricted to the 43222 zip code. To start, we can load the data directly from the file.  Note that the data is stored in the [GeoJSON](http://geojson.org/) format, making using of JSON but with a specific, geodata-related structure. Once we load the data, we can see the number of addresses contained in the data."
   ]
  },
  {
   "cell_type": "code",
   "execution_count": 24,
   "metadata": {},
   "outputs": [
    {
     "data": {
      "text/plain": [
       "2977"
      ]
     },
     "execution_count": 24,
     "metadata": {},
     "output_type": "execute_result"
    }
   ],
   "source": [
    "addresses = geopandas.read_file(\"./43222.geojson\")\n",
    "len(addresses)"
   ]
  },
  {
   "cell_type": "markdown",
   "metadata": {},
   "source": [
    "There are nearly 3,000 addressess contained in the dataset. Let's see what the first few records looks like and all the fields and values for the first record."
   ]
  },
  {
   "cell_type": "code",
   "execution_count": 25,
   "metadata": {},
   "outputs": [
    {
     "data": {
      "text/html": [
       "<div>\n",
       "<style scoped>\n",
       "    .dataframe tbody tr th:only-of-type {\n",
       "        vertical-align: middle;\n",
       "    }\n",
       "\n",
       "    .dataframe tbody tr th {\n",
       "        vertical-align: top;\n",
       "    }\n",
       "\n",
       "    .dataframe thead th {\n",
       "        text-align: right;\n",
       "    }\n",
       "</style>\n",
       "<table border=\"1\" class=\"dataframe\">\n",
       "  <thead>\n",
       "    <tr style=\"text-align: right;\">\n",
       "      <th></th>\n",
       "      <th>ADDR_ID</th>\n",
       "      <th>ADDR_NUM</th>\n",
       "      <th>CITY</th>\n",
       "      <th>COLS_KEY</th>\n",
       "      <th>COUNTY</th>\n",
       "      <th>DEVLPR_ID</th>\n",
       "      <th>FIPS_CODE</th>\n",
       "      <th>GIS_MAINT_AUTH</th>\n",
       "      <th>LAST_EDIT_DATE</th>\n",
       "      <th>LATITUDE</th>\n",
       "      <th>...</th>\n",
       "      <th>VANITY_NAME</th>\n",
       "      <th>Z_COORD</th>\n",
       "      <th>SUF_DIR</th>\n",
       "      <th>TENANT_NAME</th>\n",
       "      <th>BUILDING</th>\n",
       "      <th>COLL_DATE</th>\n",
       "      <th>UNIT_TYPE</th>\n",
       "      <th>PRE_TYPE</th>\n",
       "      <th>LOCAL_ID</th>\n",
       "      <th>geometry</th>\n",
       "    </tr>\n",
       "  </thead>\n",
       "  <tbody>\n",
       "    <tr>\n",
       "      <th>0</th>\n",
       "      <td>1.800003e+11</td>\n",
       "      <td>192</td>\n",
       "      <td>COLUMBUS</td>\n",
       "      <td>269225.0</td>\n",
       "      <td>FRA</td>\n",
       "      <td>UNKNOWN</td>\n",
       "      <td>18000</td>\n",
       "      <td>1.0</td>\n",
       "      <td>2008-02-01T13:50:37</td>\n",
       "      <td>39.961862</td>\n",
       "      <td>...</td>\n",
       "      <td>None</td>\n",
       "      <td>NaN</td>\n",
       "      <td>None</td>\n",
       "      <td>None</td>\n",
       "      <td>None</td>\n",
       "      <td>None</td>\n",
       "      <td>None</td>\n",
       "      <td>None</td>\n",
       "      <td>NaN</td>\n",
       "      <td>POINT (-83.03724214276149 39.9618697100728)</td>\n",
       "    </tr>\n",
       "    <tr>\n",
       "      <th>1</th>\n",
       "      <td>1.800013e+11</td>\n",
       "      <td>99</td>\n",
       "      <td>COLUMBUS</td>\n",
       "      <td>1298499.0</td>\n",
       "      <td>FRA</td>\n",
       "      <td>215</td>\n",
       "      <td>18000</td>\n",
       "      <td>1.0</td>\n",
       "      <td>2010-04-14T11:46:53</td>\n",
       "      <td>39.955505</td>\n",
       "      <td>...</td>\n",
       "      <td>None</td>\n",
       "      <td>NaN</td>\n",
       "      <td>None</td>\n",
       "      <td>None</td>\n",
       "      <td>None</td>\n",
       "      <td>None</td>\n",
       "      <td>None</td>\n",
       "      <td>None</td>\n",
       "      <td>NaN</td>\n",
       "      <td>POINT (-83.03917252093056 39.95551295619109)</td>\n",
       "    </tr>\n",
       "    <tr>\n",
       "      <th>2</th>\n",
       "      <td>1.800003e+11</td>\n",
       "      <td>108</td>\n",
       "      <td>COLUMBUS</td>\n",
       "      <td>270014.0</td>\n",
       "      <td>FRA</td>\n",
       "      <td>UNKNOWN</td>\n",
       "      <td>18000</td>\n",
       "      <td>1.0</td>\n",
       "      <td>2008-02-01T13:50:35</td>\n",
       "      <td>39.959640</td>\n",
       "      <td>...</td>\n",
       "      <td>None</td>\n",
       "      <td>NaN</td>\n",
       "      <td>None</td>\n",
       "      <td>None</td>\n",
       "      <td>None</td>\n",
       "      <td>None</td>\n",
       "      <td>None</td>\n",
       "      <td>None</td>\n",
       "      <td>NaN</td>\n",
       "      <td>POINT (-83.04130524454116 39.95962579005274)</td>\n",
       "    </tr>\n",
       "    <tr>\n",
       "      <th>3</th>\n",
       "      <td>1.800011e+11</td>\n",
       "      <td>956</td>\n",
       "      <td>COLUMBUS</td>\n",
       "      <td>1061682.0</td>\n",
       "      <td>FRA</td>\n",
       "      <td>ACTIVE</td>\n",
       "      <td>18000</td>\n",
       "      <td>1.0</td>\n",
       "      <td>2008-02-01T14:10:36</td>\n",
       "      <td>39.959408</td>\n",
       "      <td>...</td>\n",
       "      <td>None</td>\n",
       "      <td>NaN</td>\n",
       "      <td>None</td>\n",
       "      <td>None</td>\n",
       "      <td>None</td>\n",
       "      <td>None</td>\n",
       "      <td>None</td>\n",
       "      <td>None</td>\n",
       "      <td>NaN</td>\n",
       "      <td>POINT (-83.02622859345237 39.95941599721341)</td>\n",
       "    </tr>\n",
       "    <tr>\n",
       "      <th>4</th>\n",
       "      <td>1.800001e+11</td>\n",
       "      <td>270</td>\n",
       "      <td>COLUMBUS</td>\n",
       "      <td>115331.0</td>\n",
       "      <td>FRA</td>\n",
       "      <td>UNKNOWN</td>\n",
       "      <td>18000</td>\n",
       "      <td>1.0</td>\n",
       "      <td>2008-02-01T13:42:58</td>\n",
       "      <td>39.953919</td>\n",
       "      <td>...</td>\n",
       "      <td>None</td>\n",
       "      <td>NaN</td>\n",
       "      <td>None</td>\n",
       "      <td>None</td>\n",
       "      <td>None</td>\n",
       "      <td>None</td>\n",
       "      <td>None</td>\n",
       "      <td>None</td>\n",
       "      <td>NaN</td>\n",
       "      <td>POINT (-83.02291959309909 39.9539266611331)</td>\n",
       "    </tr>\n",
       "  </tbody>\n",
       "</table>\n",
       "<p>5 rows × 53 columns</p>\n",
       "</div>"
      ],
      "text/plain": [
       "        ADDR_ID ADDR_NUM      CITY   COLS_KEY COUNTY DEVLPR_ID FIPS_CODE  \\\n",
       "0  1.800003e+11      192  COLUMBUS   269225.0    FRA   UNKNOWN     18000   \n",
       "1  1.800013e+11       99  COLUMBUS  1298499.0    FRA       215     18000   \n",
       "2  1.800003e+11      108  COLUMBUS   270014.0    FRA   UNKNOWN     18000   \n",
       "3  1.800011e+11      956  COLUMBUS  1061682.0    FRA    ACTIVE     18000   \n",
       "4  1.800001e+11      270  COLUMBUS   115331.0    FRA   UNKNOWN     18000   \n",
       "\n",
       "   GIS_MAINT_AUTH       LAST_EDIT_DATE   LATITUDE  \\\n",
       "0             1.0  2008-02-01T13:50:37  39.961862   \n",
       "1             1.0  2010-04-14T11:46:53  39.955505   \n",
       "2             1.0  2008-02-01T13:50:35  39.959640   \n",
       "3             1.0  2008-02-01T14:10:36  39.959408   \n",
       "4             1.0  2008-02-01T13:42:58  39.953919   \n",
       "\n",
       "                       ...                       VANITY_NAME Z_COORD  SUF_DIR  \\\n",
       "0                      ...                              None     NaN     None   \n",
       "1                      ...                              None     NaN     None   \n",
       "2                      ...                              None     NaN     None   \n",
       "3                      ...                              None     NaN     None   \n",
       "4                      ...                              None     NaN     None   \n",
       "\n",
       "  TENANT_NAME BUILDING  COLL_DATE UNIT_TYPE  PRE_TYPE LOCAL_ID  \\\n",
       "0        None     None       None      None      None      NaN   \n",
       "1        None     None       None      None      None      NaN   \n",
       "2        None     None       None      None      None      NaN   \n",
       "3        None     None       None      None      None      NaN   \n",
       "4        None     None       None      None      None      NaN   \n",
       "\n",
       "                                       geometry  \n",
       "0   POINT (-83.03724214276149 39.9618697100728)  \n",
       "1  POINT (-83.03917252093056 39.95551295619109)  \n",
       "2  POINT (-83.04130524454116 39.95962579005274)  \n",
       "3  POINT (-83.02622859345237 39.95941599721341)  \n",
       "4   POINT (-83.02291959309909 39.9539266611331)  \n",
       "\n",
       "[5 rows x 53 columns]"
      ]
     },
     "execution_count": 25,
     "metadata": {},
     "output_type": "execute_result"
    }
   ],
   "source": [
    "addresses.head(5)"
   ]
  },
  {
   "cell_type": "code",
   "execution_count": 26,
   "metadata": {},
   "outputs": [
    {
     "data": {
      "text/plain": [
       "ADDR_ID                                                1.8e+11\n",
       "ADDR_NUM                                                   192\n",
       "CITY                                                  COLUMBUS\n",
       "COLS_KEY                                                269225\n",
       "COUNTY                                                     FRA\n",
       "DEVLPR_ID                                              UNKNOWN\n",
       "FIPS_CODE                                                18000\n",
       "GIS_MAINT_AUTH                                               1\n",
       "LAST_EDIT_DATE                             2008-02-01T13:50:37\n",
       "LATITUDE                                               39.9619\n",
       "LONGITUDE                                             -83.0372\n",
       "LSN                                             192 HAYDEN AVE\n",
       "MP_VAL                                                0.279221\n",
       "MSAG_LSN                                        192 HAYDEN AVE\n",
       "NLFID                                           MFRAMR05477**C\n",
       "OBJECTID                                               1233006\n",
       "PID                                                 010-013631\n",
       "SEG_ID                                                   24993\n",
       "SOURCE                                                Columbus\n",
       "STATE                                                       OH\n",
       "STATUS                                                       1\n",
       "STREET_NAME_KEY                                           9876\n",
       "STRUC_TYPE                                                   1\n",
       "STR_NAME                                                HAYDEN\n",
       "STR_TYPE                                                   AVE\n",
       "TAX_DISTRICT                                          COLUMBUS\n",
       "UNIQUEVAL                                   192987620010013631\n",
       "USPS_CITY                                             COLUMBUS\n",
       "X_COORD                                             1.8179e+06\n",
       "Y_COORD                                                 715008\n",
       "ZIP                                                      43222\n",
       "COMPLEX                                                   None\n",
       "EFF_DATE                                                  None\n",
       "ENGINEER_NAME                                             None\n",
       "FLOOR                                                     None\n",
       "LOT_NUMBER                                                None\n",
       "OWNER_NAME                                                None\n",
       "PRE_DIR                                                   None\n",
       "SUB_NAME                                                  None\n",
       "UNIT_NUM                                                  None\n",
       "ADDR_HALF                                                 None\n",
       "EDITOR                                                    None\n",
       "PROJECT_DESC                                              None\n",
       "VANITY_NAME                                               None\n",
       "Z_COORD                                                    NaN\n",
       "SUF_DIR                                                   None\n",
       "TENANT_NAME                                               None\n",
       "BUILDING                                                  None\n",
       "COLL_DATE                                                 None\n",
       "UNIT_TYPE                                                 None\n",
       "PRE_TYPE                                                  None\n",
       "LOCAL_ID                                                   NaN\n",
       "geometry           POINT (-83.03724214276149 39.9618697100728)\n",
       "Name: 0, dtype: object"
      ]
     },
     "execution_count": 26,
     "metadata": {},
     "output_type": "execute_result"
    }
   ],
   "source": [
    "addresses.iloc[0]"
   ]
  },
  {
   "cell_type": "markdown",
   "metadata": {},
   "source": [
    "Notice that the address data includes a *geometry* field that appears to contain point data in terms of longitude and latitude.  Most geospatial datasets will include a *geometry* field that includes *point*, *line*, or *polygon* data or a representation of square cells.  To see the details of the coordinate system being used, we can use the *crs* property again."
   ]
  },
  {
   "cell_type": "code",
   "execution_count": 27,
   "metadata": {},
   "outputs": [
    {
     "data": {
      "text/plain": [
       "{'init': 'epsg:4326'}"
      ]
     },
     "execution_count": 27,
     "metadata": {},
     "output_type": "execute_result"
    }
   ],
   "source": [
    "addresses.crs"
   ]
  },
  {
   "cell_type": "markdown",
   "metadata": {},
   "source": [
    "This is the system we'd like to work in so we don't need to transform the data before working with it. \n",
    "\n",
    "Let's look at the address data in relation to the bus stop data.  To plot both of them together, we first create *matplotlib* *figure* and *axes* objects.  The *axes* object will be stored in the *ax* variable and used with the *GeoDataFrame* *plot* method.  We'll plot bus stops with blue markers and addresses with red markers."
   ]
  },
  {
   "cell_type": "code",
   "execution_count": 28,
   "metadata": {},
   "outputs": [
    {
     "data": {
      "text/plain": [
       "<matplotlib.axes._subplots.AxesSubplot at 0x10d2e9ac8>"
      ]
     },
     "execution_count": 28,
     "metadata": {},
     "output_type": "execute_result"
    },
    {
     "data": {
      "image/png": "[encoded data removed]",
      "text/plain": [
       "<matplotlib.figure.Figure at 0x10d2e5c50>"
      ]
     },
     "metadata": {},
     "output_type": "display_data"
    }
   ],
   "source": [
    "fig, ax = pyplot.subplots(1, 1)\n",
    "cota_stops.plot(ax=ax, color='b')\n",
    "addresses.plot(ax=ax, color='r')"
   ]
  },
  {
   "cell_type": "markdown",
   "metadata": {},
   "source": [
    "Notice that the area that includes address points is much smaller than the area that contains all the bus stops.  We can filter the bus stop data by specifying bounds on the longitude and latitude."
   ]
  },
  {
   "cell_type": "code",
   "execution_count": 29,
   "metadata": {},
   "outputs": [
    {
     "data": {
      "text/plain": [
       "520"
      ]
     },
     "execution_count": 29,
     "metadata": {},
     "output_type": "execute_result"
    }
   ],
   "source": [
    "cota_stops = cota_stops[(cota_stops.geometry.x >= -83.1) &\n",
    "                                 (cota_stops.geometry.x <= -83.0) &\n",
    "                                 (cota_stops.geometry.y >= 39.9) &\n",
    "                                 (cota_stops.geometry.y <= 40.0)]\n",
    "len(cota_stops)"
   ]
  },
  {
   "cell_type": "markdown",
   "metadata": {
    "collapsed": true
   },
   "source": [
    "We've reduced the number of bus stops to just over 500.  Let's update our plot of addresses and bus stops."
   ]
  },
  {
   "cell_type": "code",
   "execution_count": 30,
   "metadata": {},
   "outputs": [
    {
     "data": {
      "text/plain": [
       "<matplotlib.axes._subplots.AxesSubplot at 0x10d301d30>"
      ]
     },
     "execution_count": 30,
     "metadata": {},
     "output_type": "execute_result"
    },
    {
     "data": {
      "image/png": "[encoded data removed]",
      "text/plain": [
       "<matplotlib.figure.Figure at 0x10d2ab588>"
      ]
     },
     "metadata": {},
     "output_type": "display_data"
    }
   ],
   "source": [
    "fig, ax = pyplot.subplots(1, 1)\n",
    "addresses.plot(ax=ax, color='r')\n",
    "cota_stops.plot(ax=ax, color='b')"
   ]
  },
  {
   "cell_type": "markdown",
   "metadata": {},
   "source": [
    "### Greatest Minimum Distance\n",
    "\n",
    "With the data loaded and the dataset pared down a bit, we can now consider the question we're trying to answer.  First, let's see how we can calculate the physical distance in miles between a bus stop and an address. "
   ]
  },
  {
   "cell_type": "code",
   "execution_count": 31,
   "metadata": {},
   "outputs": [
    {
     "data": {
      "text/plain": [
       "3.0372506560359014"
      ]
     },
     "execution_count": 31,
     "metadata": {},
     "output_type": "execute_result"
    }
   ],
   "source": [
    "a_stop = cota_stops.iloc[0].geometry\n",
    "an_address = addresses.iloc[0].geometry\n",
    "haversine.haversine((a_stop.y, a_stop.x), (an_address.y, an_address.x), miles=True)"
   ]
  },
  {
   "cell_type": "markdown",
   "metadata": {},
   "source": [
    "To use the *haversine* function, we had to rewrite the coordinates of each point as latitude/longitude pairs rather than longitude/latitude pairs.  This is a bit cumbersome so we can write our own function to calculate the distance between two points as they are stored in the datasets."
   ]
  },
  {
   "cell_type": "code",
   "execution_count": 32,
   "metadata": {},
   "outputs": [],
   "source": [
    "def distance(point_1, point_2):\n",
    "    lat_lon_1 = (point_1.y, point_1.x)\n",
    "    lat_lon_2 = (point_2.y, point_2.x)\n",
    "    return haversine.haversine(lat_lon_1, lat_lon_2, miles=True)"
   ]
  },
  {
   "cell_type": "markdown",
   "metadata": {},
   "source": [
    "Before we look at all addresses, let's think about how we'd calculate the distance to the nearest bus stop for one address.  We'll start by choosing one address to work with, which we will store in the *address_point* variable.  Next, we can create a variable to store the smallest distance between the address and a bus stop, let's call it *minimum_stop_distance*, and set to the distance between the address and the first bus stop. To find the smallest distances, we examine each bus stop and calculate the distance between it and the address.  If the calculated distance is smaller than *minimum_stop_distance* we'll replace the value of *minimum_stop_distance* with the new value; if not, we'll continue on to the next address.  After examining all the bus stops, we'll display the value of *minimum_stop_distance*."
   ]
  },
  {
   "cell_type": "code",
   "execution_count": 33,
   "metadata": {},
   "outputs": [
    {
     "name": "stdout",
     "output_type": "stream",
     "text": [
      "Miniumn stop distance: 0.1164577671147217\n"
     ]
    }
   ],
   "source": [
    "address_point = addresses.iloc[0].geometry\n",
    "minimum_stop_distance = distance(address_point, cota_stops.iloc[0].geometry)\n",
    "\n",
    "for stop_point in cota_stops.geometry:\n",
    "    stop_distance = distance(address_point, stop_point)\n",
    "    if stop_distance < minimum_stop_distance:\n",
    "        minimum_stop_distance = stop_distance\n",
    "        \n",
    "print(\"Miniumn stop distance:\", minimum_stop_distance)"
   ]
  },
  {
   "cell_type": "markdown",
   "metadata": {},
   "source": [
    "The result indicates that the nearest bus stop to the address we're working with is about one tenth of a mile away.  \n",
    "\n",
    "Let's extend our code to look at all addresses, one at a time.  For each address, we'll calculate the distance to the nearest bus stop just like we did above.  Now that we're looking at all addresses, we'll also keep track of *greatest_minimum_distance*. We'll set *greatest_minimum_distance* to 0 initially.  For each address, we'll compare its distance to the nearest bus stop to *greatest_minimum_distance*.  If the distance to the nearest bus stop is greater than the value of *greatest_minimum_distance*, we'll replace the value of *greatest_minimum_distance* with the new value; if not, we'll continue to the next address. After working through all addresses, we'll display the value of *greatest_minimum_distance*.\n",
    "\n",
    "The code below includes extra code to display the progress as it works through the calculations. The percentage is determined based on the index of the current address being processed divided by the total number of addresses."
   ]
  },
  {
   "cell_type": "code",
   "execution_count": 34,
   "metadata": {},
   "outputs": [
    {
     "name": "stdout",
     "output_type": "stream",
     "text": [
      "Percent complete:  0.0\n",
      "Percent complete:  3.359086328518643\n",
      "Percent complete:  6.718172657037286\n",
      "Percent complete:  10.077258985555929\n",
      "Percent complete:  13.436345314074572\n",
      "Percent complete:  16.795431642593215\n",
      "Percent complete:  20.154517971111858\n",
      "Percent complete:  23.5136042996305\n",
      "Percent complete:  26.872690628149144\n",
      "Percent complete:  30.231776956667787\n",
      "Percent complete:  33.59086328518643\n",
      "Percent complete:  36.94994961370507\n",
      "Percent complete:  40.309035942223716\n",
      "Percent complete:  43.66812227074236\n",
      "Percent complete:  47.027208599261\n",
      "Percent complete:  50.38629492777964\n",
      "Percent complete:  53.74538125629829\n",
      "Percent complete:  57.10446758481693\n",
      "Percent complete:  60.46355391333557\n",
      "Percent complete:  63.82264024185421\n",
      "Percent complete:  67.18172657037286\n",
      "Percent complete:  70.5408128988915\n",
      "Percent complete:  73.89989922741015\n",
      "Percent complete:  77.25898555592879\n",
      "Percent complete:  80.61807188444743\n",
      "Percent complete:  83.97715821296607\n",
      "Percent complete:  87.33624454148472\n",
      "Percent complete:  90.69533087000336\n",
      "Percent complete:  94.054417198522\n",
      "Percent complete:  97.41350352704065\n",
      "Greatest miniumn distance: 0.5117929624189032\n"
     ]
    }
   ],
   "source": [
    "number_of_addresses = len(addresses)\n",
    "greatest_minimum_distance = 0\n",
    "for index, address_point in enumerate(addresses.geometry):\n",
    "    \n",
    "    # display progress\n",
    "    if index % 100 == 0:\n",
    "        print(\"Percent complete: \", index/number_of_addresses * 100)\n",
    "    \n",
    "    minimum_stop_distance = distance(address_point, cota_stops.iloc[0].geometry)\n",
    "    for stop_point in cota_stops.geometry:\n",
    "        stop_distance = distance(address_point, stop_point)\n",
    "        if stop_distance < minimum_stop_distance:\n",
    "            minimum_stop_distance = stop_distance\n",
    "    \n",
    "    if minimum_stop_distance > greatest_minimum_distance:\n",
    "        greatest_minimum_distance = minimum_stop_distance\n",
    "print(\"Greatest miniumn distance:\", greatest_minimum_distance)"
   ]
  },
  {
   "cell_type": "markdown",
   "metadata": {},
   "source": [
    "From the result we can see that the greatest distance between an address in the 43222 zip code and its nearest bus stop is about half a mile. \n",
    "\n",
    "## Exercise\n",
    "Calculate the mean distance to the nearest stop for all addresses in 43222.\n",
    "\n",
    "**Hint**: Most of the code used to calculate the greatest minimum distance can be reused. Here's an updated form of the code above with some new variable names.\n",
    "\n",
    "```python\n",
    "number_of_addresses = len(addresses)\n",
    "total_minimum_distance = 0\n",
    "for index, address_point in enumerate(addresses.geometry):\n",
    "    \n",
    "    # display progress\n",
    "    if index % 100 == 0:\n",
    "        print(\"Percent complete: \", index/number_of_addresses * 100)\n",
    "    \n",
    "    minimum_stop_distance = distance(address_point, cota_stops.iloc[0].geometry)\n",
    "    for stop_point in cota_stops.geometry:\n",
    "        stop_distance = distance(address_point, stop_point)\n",
    "        if stop_distance < minimum_stop_distance:\n",
    "            minimum_stop_distance = stop_distance\n",
    "    total_minimum_distance = total_minimum_distance + minimum_stop_distance\n",
    "\n",
    "# MEAN CALCULATION CODE HERE\n",
    "\n",
    "print(\"Mean minimumn distance:\", mean_minimum_distance)\n",
    "```\n",
    "\n",
    "Replace \"`# MEAN CALCULATION CODE HERE`\" with the code needed to calculate `mean_minimum_distance` from `total_minimum_distance` and `number_of_addresses`.\n",
    "\n",
    "Recall that the mean of a set of values is the sum of the values divided by the number of values."
   ]
  },
  {
   "cell_type": "code",
   "execution_count": null,
   "metadata": {
    "collapsed": true
   },
   "outputs": [],
   "source": []
  }
 ],
 "metadata": {
  "kernelspec": {
   "display_name": "Python 3",
   "language": "python",
   "name": "python3"
  },
  "language_info": {
   "codemirror_mode": {
    "name": "ipython",
    "version": 3
   },
   "file_extension": ".py",
   "mimetype": "text/x-python",
   "name": "python",
   "nbconvert_exporter": "python",
   "pygments_lexer": "ipython3",
   "version": "3.6.4"
  }
 },
 "nbformat": 4,
 "nbformat_minor": 2
}
