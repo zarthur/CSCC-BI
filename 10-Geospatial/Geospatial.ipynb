{
 "cells": [
  {
   "cell_type": "code",
   "execution_count": null,
   "metadata": {},
   "outputs": [],
   "source": [
    "!pip install geopandas haversine requests "
   ]
  },
  {
   "cell_type": "code",
   "execution_count": null,
   "metadata": {},
   "outputs": [],
   "source": [
    "import itertools\n",
    "import io\n",
    "import zipfile\n",
    "\n",
    "import geopandas\n",
    "import haversine\n",
    "import requests\n",
    "import shapely\n",
    "\n",
    "from matplotlib import pyplot as plt\n"
   ]
  },
  {
   "cell_type": "code",
   "execution_count": null,
   "metadata": {
    "collapsed": true
   },
   "outputs": [],
   "source": [
    "%matplotlib inline\n",
    "plt.rcParams[\"figure.figsize\"] = (10,10)"
   ]
  },
  {
   "cell_type": "code",
   "execution_count": null,
   "metadata": {
    "collapsed": true
   },
   "outputs": [],
   "source": [
    "cota_data_url = \"http://cota1974.maps.arcgis.com/sharing/rest/content/items/43e38988fab145e4934d6c6d7b3c2385/data\""
   ]
  },
  {
   "cell_type": "code",
   "execution_count": null,
   "metadata": {
    "collapsed": true
   },
   "outputs": [],
   "source": [
    "cota_data = requests.get(cota_data_url)\n",
    "cota_data_stream = io.BytesIO(cota_data.content)\n",
    "cota_data_zip = zipfile.ZipFile(cota_data_stream)"
   ]
  },
  {
   "cell_type": "code",
   "execution_count": null,
   "metadata": {},
   "outputs": [],
   "source": [
    "cota_data_zip.namelist()"
   ]
  },
  {
   "cell_type": "code",
   "execution_count": null,
   "metadata": {
    "collapsed": true
   },
   "outputs": [],
   "source": [
    "cota_data_zip.extractall()"
   ]
  },
  {
   "cell_type": "code",
   "execution_count": null,
   "metadata": {
    "collapsed": true
   },
   "outputs": [],
   "source": [
    "cota_stops = geopandas.read_file('Stops_201709.shp')"
   ]
  },
  {
   "cell_type": "code",
   "execution_count": null,
   "metadata": {},
   "outputs": [],
   "source": [
    "cota_stops.head(5)"
   ]
  },
  {
   "cell_type": "code",
   "execution_count": null,
   "metadata": {},
   "outputs": [],
   "source": [
    "cota_stops.iloc[0]"
   ]
  },
  {
   "cell_type": "code",
   "execution_count": null,
   "metadata": {
    "collapsed": true
   },
   "outputs": [],
   "source": [
    "def point_lon_lat(lon, lat):\n",
    "    return shapely.geometry.point.Point(lon/1000000, lat/1000000)\n"
   ]
  },
  {
   "cell_type": "code",
   "execution_count": null,
   "metadata": {
    "collapsed": true
   },
   "outputs": [],
   "source": [
    "cota_stops.geometry = cota_stops.apply(lambda row: point_lon_lat(row.Lon, row.Lat), axis=1)"
   ]
  },
  {
   "cell_type": "code",
   "execution_count": null,
   "metadata": {},
   "outputs": [],
   "source": [
    "cota_stops.plot(color='b')"
   ]
  },
  {
   "cell_type": "code",
   "execution_count": null,
   "metadata": {},
   "outputs": [],
   "source": [
    "addresses = geopandas.read_file(\"/home/nbuser/43222.geojson\")"
   ]
  },
  {
   "cell_type": "code",
   "execution_count": null,
   "metadata": {},
   "outputs": [],
   "source": [
    "addresses.head(5)"
   ]
  },
  {
   "cell_type": "code",
   "execution_count": null,
   "metadata": {},
   "outputs": [],
   "source": [
    "addresses.iloc[0]"
   ]
  },
  {
   "cell_type": "code",
   "execution_count": null,
   "metadata": {},
   "outputs": [],
   "source": [
    "len(addresses)"
   ]
  },
  {
   "cell_type": "code",
   "execution_count": null,
   "metadata": {},
   "outputs": [],
   "source": [
    "fig, ax = plt.subplots(1, 1)\n",
    "cota_stops.plot(ax=ax, color='b')\n",
    "addresses.plot(ax=ax, color='r')\n"
   ]
  },
  {
   "cell_type": "code",
   "execution_count": null,
   "metadata": {
    "collapsed": true
   },
   "outputs": [],
   "source": [
    "cota_stops_filtered = cota_stops[(cota_stops.geometry.x >= -83.1) &\n",
    "                                 (cota_stops.geometry.x <= -83.0) &\n",
    "                                 (cota_stops.geometry.y >= 39.25) &\n",
    "                                 (cota_stops.geometry.y <= 40)]"
   ]
  },
  {
   "cell_type": "code",
   "execution_count": null,
   "metadata": {},
   "outputs": [],
   "source": [
    "len(cota_stops_filtered)"
   ]
  },
  {
   "cell_type": "code",
   "execution_count": null,
   "metadata": {},
   "outputs": [],
   "source": [
    "fig, ax = plt.subplots(1, 1)\n",
    "addresses.plot(ax=ax, color='r')\n",
    "cota_stops_filtered.plot(ax=ax, color='b')\n"
   ]
  },
  {
   "cell_type": "code",
   "execution_count": null,
   "metadata": {},
   "outputs": [],
   "source": [
    "a_stop = cota_stops_filtered.iloc[0].geometry\n",
    "an_address = addresses.iloc[0].geometry\n",
    "print(haversine.haversine((a_stop.y, a_stop.x), (an_address.y, an_address.x), miles=True))"
   ]
  },
  {
   "cell_type": "code",
   "execution_count": null,
   "metadata": {
    "collapsed": true
   },
   "outputs": [],
   "source": [
    "def distance(point_1, point_2):\n",
    "    lat_lon_1 = (point_1.y, point_1.x)\n",
    "    lat_lon_2 = (point_2.y, point_2.x)\n",
    "    return haversine.haversine(lat_lon_1, lat_lon_2, miles=True)"
   ]
  },
  {
   "cell_type": "code",
   "execution_count": null,
   "metadata": {},
   "outputs": [],
   "source": [
    "number_of_addresses = len(addresses)\n",
    "greatest_minimum_distance = 0\n",
    "for index, address_point in enumerate(addresses.geometry):\n",
    "    \n",
    "    # display progress\n",
    "    if index % 100 == 0:\n",
    "        print(\"Percent complete: \", index/number_of_addresses * 100)\n",
    "    \n",
    "    minimum_stop_distance = 1000  # unreasonable distance, at least one distance has to be less than this\n",
    "    for stop_point in cota_stops_filtered.geometry:\n",
    "        stop_distance = distance(address_point, stop_point)\n",
    "        if stop_distance < minimum_stop_distance:\n",
    "            minimum_stop_distance = stop_distance\n",
    "    \n",
    "    if minimum_stop_distance > greatest_minimum_distance:\n",
    "        greatest_minimum_distance = minimum_stop_distance\n",
    "print(\"Greatest miniumn distance:\", greatest_minimum_distance)"
   ]
  },
  {
   "cell_type": "markdown",
   "metadata": {},
   "source": [
    "## Exercise\n",
    "Calculate the mean distance to the nearest stop for all addresses in 43222.\n",
    "\n",
    "**Hint**: Most of the code will be the same.  Here's an updated form of the code above with some new variable names.\n",
    "\n",
    "```python\n",
    "number_of_addresses = len(addresses)\n",
    "total_minimum_distance = 0\n",
    "for index, address_point in enumerate(addresses_.geometry):\n",
    "    \n",
    "    # display progress\n",
    "    if index % 100 == 0:\n",
    "        print(\"Percent complete: \", index/number_of_addresses * 100)\n",
    "    \n",
    "    minimum_stop_distance = 1000\n",
    "    for stop_point in cota_stops_filtered.geometry:\n",
    "        stop_distance = distance(address_point, stop_point)\n",
    "        if stop_distance < minimum_stop_distance:\n",
    "            minimum_stop_distance = stop_distance\n",
    "    total_minimum_distance = total_minimum_distance + minimum_stop_distance\n",
    "\n",
    "XXXX\n",
    "print(\"Mean miniumn distance:\", mean_minimum_distance)\n",
    "```\n",
    "\n",
    "Replace `XXXX` with the code needed to calcuate `mean_minimum_distance` from `total_minimum_distance` and `number_of_addresses`.\n",
    "\n",
    "Recall that the mean of a set of values is the sum of the values divided by the number of values."
   ]
  },
  {
   "cell_type": "code",
   "execution_count": null,
   "metadata": {
    "collapsed": true
   },
   "outputs": [],
   "source": []
  }
 ],
 "metadata": {
  "kernelspec": {
   "display_name": "Python 3",
   "language": "python",
   "name": "python3"
  },
  "language_info": {
   "codemirror_mode": {
    "name": "ipython",
    "version": 3
   },
   "file_extension": ".py",
   "mimetype": "text/x-python",
   "name": "python",
   "nbconvert_exporter": "python",
   "pygments_lexer": "ipython3",
   "version": "3.5.2"
  }
 },
 "nbformat": 4,
 "nbformat_minor": 2
}
